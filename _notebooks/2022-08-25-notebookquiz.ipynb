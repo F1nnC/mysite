{
 "cells": [
  {
   "cell_type": "markdown",
   "metadata": {},
   "source": [
    "# Notebook Test\n",
    "---\n",
    "- title: Notebook Test\n",
    "- toc: true\n",
    "- comments: true\n",
    "- categories: [Notebook]\n",
    "---"
   ]
  },
  {
   "cell_type": "code",
   "execution_count": 4,
   "metadata": {},
   "outputs": [
    {
     "name": "stdout",
     "output_type": "stream",
     "text": [
      "Question: What is 1+1?\n",
      "Answer: 2\n"
     ]
    }
   ],
   "source": [
    "def question_and_answer(prompt):\n",
    "    print(\"Question: \" + prompt)\n",
    "    msg = input(\"2\")\n",
    "    print(\"Answer: \" + msg)\n",
    "\n",
    "question_and_answer(\"What is 1+1?\")"
   ]
  },
  {
   "cell_type": "code",
   "execution_count": 5,
   "metadata": {},
   "outputs": [
    {
     "name": "stdout",
     "output_type": "stream",
     "text": [
      "Question: What is 2+2\n",
      "Answer: 4\n"
     ]
    }
   ],
   "source": [
    "def question_and_answer(prompt):\n",
    "    print(\"Question: \" + prompt)\n",
    "    msg = input(\"4\")\n",
    "    print(\"Answer: \" + msg)\n",
    "\n",
    "question_and_answer(\"What is 2+2\")"
   ]
  },
  {
   "cell_type": "code",
   "execution_count": 4,
   "metadata": {},
   "outputs": [
    {
     "name": "stdout",
     "output_type": "stream",
     "text": [
      "Hello Finn\n",
      "Is the sky blue\n",
      "a. Yes\n",
      "b. No\n",
      "correct\n",
      "1 point\n",
      "1+1\n",
      "a. 2\n",
      "b. 3\n",
      "\n",
      "correct\n",
      "2 point\n"
     ]
    }
   ],
   "source": [
    "q1 = \"\"\"Is the sky blue\n",
    "a. Yes\n",
    "b. No\"\"\"\n",
    "\n",
    "q2 = \"\"\"1+1\n",
    "a. 2\n",
    "b. 3\n",
    "\"\"\"\n",
    "\n",
    "questions = {q1:\"a\",q2:\"a\"}\n",
    "\n",
    "name = input(\"enter your name:\")\n",
    "print(\"Hello\", name)\n",
    "\n",
    "score = 0\n",
    "\n",
    "for i in questions:\n",
    "    print(i)\n",
    "    ans = input(\"enter the answer: (a/b):\")\n",
    "    if ans==questions[i]:\n",
    "        print(\"correct\")\n",
    "        score=score+1\n",
    "        print(score,\"point\")\n",
    "    else:\n",
    "        print(\"wrong\")"
   ]
  }
 ],
 "metadata": {
  "kernelspec": {
   "display_name": "Python 3.8.10 64-bit",
   "language": "python",
   "name": "python3"
  },
  "language_info": {
   "codemirror_mode": {
    "name": "ipython",
    "version": 3
   },
   "file_extension": ".py",
   "mimetype": "text/x-python",
   "name": "python",
   "nbconvert_exporter": "python",
   "pygments_lexer": "ipython3",
   "version": "3.8.10"
  },
  "orig_nbformat": 4,
  "vscode": {
   "interpreter": {
    "hash": "916dbcbb3f70747c44a77c7bcd40155683ae19c65e1c03b4aa3499c5328201f1"
   }
  }
 },
 "nbformat": 4,
 "nbformat_minor": 2
}
