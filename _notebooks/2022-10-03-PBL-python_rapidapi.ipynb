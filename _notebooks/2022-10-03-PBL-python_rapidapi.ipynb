{
 "cells": [
  {
   "cell_type": "markdown",
   "metadata": {},
   "source": [
    "# Application Programming Interface (API)\n",
    "> APIs can be found all over the internet.  A great consolidator of many APIs is <mark>RapidAPI</mark>.  In this blog we will use a site to consolidates API stats.  Learning a few lines of code and you can start extracting lots of data from the internet via APIs.  \n",
    "- title: Python RapidAPI\n",
    "- toc: true\n",
    "- image: /images/rapidapi.png\n",
    "- permalink: /techtalk/rapidapi\n",
    "- categories: [1.A, 5.B, 5.D]\n",
    "- tags: [api, rapidapi]\n",
    "- type: pbl\n",
    "- week: 7"
   ]
  },
  {
   "cell_type": "markdown",
   "metadata": {},
   "source": [
    "### Python, RapidAPI Terms\n",
    "> APIs and tooling like Jupyter docs allows many opportunities in fields like Data Science.  As more and more developers use APIs, they build standards in how you setup a client, send requests and receive information..."
   ]
  },
  {
   "cell_type": "markdown",
   "metadata": {},
   "source": [
    "### Covid19 RapidAPI Example\n",
    "> To begin the API journey.  You need to find an API provider.  \n",
    "\n",
    "- RapidAPI is a great option.  You must setup and account, but there are many free options.\n",
    "- Goto this page for starters, the [Corona virus World and India data](https://rapidapi.com/spamakashrajtech/api/corona-virus-world-and-india-data/)\n",
    "- Under Code Snippets pick Python - Requests\n",
    "\n",
    "RapidAPI, you will select Python Requests type of code to work with you Notebook.\n",
    "- The url is the endpoint to which the API is directed\n",
    "- The headers is a dictionary data structure to send special messaging to the endpoint \n",
    "- The requests.request() python function is used to send a request and retrieve their responses\n",
    "- The response variable receives result of of the request in JSON text\n",
    "\n",
    "Next step, is to format the response according to your data science needs"
   ]
  },
  {
   "cell_type": "code",
   "execution_count": 2,
   "metadata": {},
   "outputs": [
    {
     "name": "stdout",
     "output_type": "stream",
     "text": [
      "World Totals\n",
      "total_cases 509,268,964\n",
      "new_cases 204,268\n",
      "total_deaths 6,242,509\n",
      "new_deaths 630\n",
      "total_recovered 461,827,849\n",
      "active_cases 41,198,606\n",
      "serious_critical 42,510\n",
      "total_cases_per_1m_population 65,334\n",
      "deaths_per_1m_population 800.9\n",
      "statistic_taken_at 2022-04-24 11:18:01\n",
      "\n",
      "Country Totals\n",
      "country_name USA\n",
      "cases 82,649,779\n",
      "deaths 1,018,316\n",
      "region \n",
      "total_recovered 80,434,925\n",
      "new_deaths 0\n",
      "new_cases 0\n",
      "serious_critical 1,465\n",
      "active_cases 1,196,538\n",
      "total_cases_per_1m_population 247,080\n",
      "deaths_per_1m_population 3,044\n",
      "total_tests 1,000,275,726\n",
      "tests_per_1m_population 2,990,303\n"
     ]
    }
   ],
   "source": [
    "\"\"\"\n",
    "Requests is a HTTP library for the Python programming language. \n",
    "The goal of the project is to make HTTP requests simpler and more human-friendly. \n",
    "\"\"\"\n",
    "import requests\n",
    "\n",
    "\"\"\"\n",
    "RapidAPI is the world's largest API Marketplace. \n",
    "Developers use Rapid API to discover and connect to thousands of APIs. \n",
    "\"\"\"\n",
    "url = \"https://corona-virus-world-and-india-data.p.rapidapi.com/api\"\n",
    "headers = {\n",
    "    'x-rapidapi-key': \"8222bd61f1mshad1ad1dfca1b2bcp1aa093jsnd4c03fb4a7ae\",\n",
    "    'x-rapidapi-host': \"corona-virus-world-and-india-data.p.rapidapi.com\"\n",
    "}\n",
    "\n",
    "# Request Covid Data\n",
    "response = requests.request(\"GET\", url, headers=headers)\n",
    "# print(response.text)  # uncomment this line to see raw data\n",
    "\n",
    "# This code looks for \"world data\"\n",
    "print(\"World Totals\")\n",
    "world = response.json().get('world_total')  # turn response to json() so we can extract \"world_total\"\n",
    "for key, value in world.items():  # this finds key, value pairs in country\n",
    "    print(key, value)\n",
    "\n",
    "print()\n",
    "\n",
    "# This code looks for USA in \"countries_stats\"\n",
    "print(\"Country Totals\")\n",
    "countries = response.json().get('countries_stat')\n",
    "for country in countries:  # countries is a list\n",
    "    if country[\"country_name\"] == \"USA\":  # this filters for USA\n",
    "        for key, value in country.items():  # this finds key, value pairs in country\n",
    "            print(key, value)\n"
   ]
  },
  {
   "cell_type": "markdown",
   "metadata": {},
   "source": [
    "### Digital Coin Example\n",
    "> This example provides digital coin feedback (ie Bitcoin).  It include popularity, price, symbols, etc.\n",
    "- A valid X-RapidAPI-Key is required.  Look in code for link to RapidAPI page\n",
    "- Read all comments in code for further guidance"
   ]
  },
  {
   "cell_type": "code",
   "execution_count": 2,
   "metadata": {},
   "outputs": [
    {
     "name": "stdout",
     "output_type": "stream",
     "text": [
      "{\"message\":\"You are not subscribed to this API.\"}\n"
     ]
    }
   ],
   "source": [
    "# Request Digital Coin\n",
    "# RapidAPI page https://rapidapi.com/Coinranking/api/coinranking1/\n",
    "\n",
    "# Begin Rapid API Code\n",
    "import requests\n",
    "\n",
    "url = \"https://coinranking1.p.rapidapi.com/coins\"\n",
    "querystring = {\"referenceCurrencyUuid\":\"yhjMzLPhuIDl\",\"timePeriod\":\"24h\",\"tiers[0]\":\"1\",\"orderBy\":\"marketCap\",\"orderDirection\":\"desc\",\"limit\":\"50\",\"offset\":\"0\"}\n",
    "headers = {\n",
    "\t\"X-RapidAPI-Key\": \"jcmbea0fa2ff5msh7f14bf69be38ca6p175482jsn6c4988114560\",  # place your key here\n",
    "\t\"X-RapidAPI-Host\": \"coinranking1.p.rapidapi.com\"\n",
    "}\n",
    "\n",
    "response = requests.request(\"GET\", url, headers=headers, params=querystring)\n",
    "print(response.text)\n",
    "# End Rapid API Code\n",
    "json = response.json()  # convert response to python json object\n",
    "\n",
    "# Observe data from an API.  This is how data transports over the internet in a \"JSON\" text form\n",
    "# - The JSON \"text\" is formed in dictionary {} and list [] divisions\n",
    "# - To read the result, Data Scientist of  Developer converts JSON into human readable form\n",
    "# - Review the first line, look for the keys --  \"status\" and \"data\""
   ]
  },
  {
   "cell_type": "markdown",
   "metadata": {},
   "source": [
    "### Formatting Digital Coin example\n",
    "> JSON text transferred from the API in the previous cell was converted to a Python Dictionary called json.  The \"coins\" in the dictionary contain a list of the most relevant data.   Look at the code and comments to see how the original text is turned into something understandable.   Additionally, there are error check to make sure we are starting the code with the expectation that the API was run correctly. "
   ]
  },
  {
   "cell_type": "code",
   "execution_count": 3,
   "metadata": {},
   "outputs": [
    {
     "name": "stdout",
     "output_type": "stream",
     "text": [
      "JSON data is Python type: <class 'dict'>\n",
      "Did you insert a valid key in X-RapidAPI-Key of API cell above?\n",
      "{'message': 'You are not subscribed to this API.'}\n"
     ]
    }
   ],
   "source": [
    "\"\"\"\n",
    "This cell is dependent on valid run of API above.\n",
    "- try and except code is making sure \"json\" was properly run above\n",
    "- inside second try is code that is used to process Coin API data\n",
    "\n",
    "Note.  Run this cell repeatedly to format data without re-activating API\n",
    "\"\"\"\n",
    "\n",
    "try:\n",
    "    print(\"JSON data is Python type: \" + str(type(json)))\n",
    "    try:\n",
    "        # Extracting Coins JSON status, if the API worked\n",
    "        status = json.get('status')\n",
    "        print(\"API status: \" + status)\n",
    "        print()\n",
    "        \n",
    "        # Extracting Coins JSON data, data about the coins\n",
    "        data = json.get('data')\n",
    "        \n",
    "        # Procedural abstraction of Print code for coins\n",
    "        def print_coin(c):\n",
    "            print(c[\"symbol\"], c[\"price\"])\n",
    "            print(\"Icon Url: \" + c[\"iconUrl\"])\n",
    "            print(\"Rank Url: \" + c[\"coinrankingUrl\"])\n",
    "\n",
    "        # Coins data was observed to be a list\n",
    "        for coin in data['coins']:\n",
    "            print_coin(coin)\n",
    "            print()\n",
    "            \n",
    "    except:\n",
    "        print(\"Did you insert a valid key in X-RapidAPI-Key of API cell above?\")\n",
    "        print(json)\n",
    "except:\n",
    "    print(\"This cell is dependent on running API call in cell above!\")"
   ]
  },
  {
   "cell_type": "markdown",
   "metadata": {},
   "source": [
    "### Go deeper into APIs\n",
    "> Web Development vs Jupyter Notebook.  A notebook is certainly a great place to start.  But, for your end of Trimester project we want you to build the skill to reference and use APIs within your Project.  Here are some resources to get you started with this journey.\n",
    "\n",
    "- In the Nighthawk Coders APCSP you can find an Overview and Examples using APIs:  [APCSP APIs menu](https://nighthawkcoders.github.io/APCSP/api/overview)\n",
    "- Using Covid RapidAPI\n",
    "    - JavaScript frontend API code in APCSP Fastpages GitHub repo: [https://github.com/nighthawkcoders/APCSP/blob/master/_posts/2022-07-10-PBL-rapidapi.md](https://github.com/nighthawkcoders/APCSP/blob/master/_posts/2022-07-10-PBL-rapidapi.md)\n",
    "- Making a Jokes API (this will next API tech talk)\n",
    "    - Frontend. JavaScript frontend code in APCSP fastpages GitHub repo: [https://github.com/nighthawkcoders/APCSP/blob/master/_posts/2022-07-10-PBL-jokes.md](https://github.com/nighthawkcoders/APCSP/blob/master/_posts/2022-07-10-PBL-jokes.md)\n",
    "    - Backend Endpoints.  Python code that allows Frontend access: [https://github.com/nighthawkcoders/flask_portfolio/blob/main/api.py](https://github.com/nighthawkcoders/flask_portfolio/blob/main/api.py)\n",
    "    - Backend Jokes Management.  Python code that support Create, Read, Update, Delete (CRUD): [https://github.com/nighthawkcoders/flask_portfolio/blob/main/model_jokes.py](https://github.com/nighthawkcoders/flask_portfolio/blob/main/model_jokes.py)"
   ]
  },
  {
   "cell_type": "markdown",
   "metadata": {},
   "source": [
    "## Hacks\n",
    "> Find and use an API as part of your project.  An API and a little coding logic will be a big step toward getting meaningful data for a project.  There are many API providers, find one that might work for your project to complete this hack. When picking an API you are looking for something that will work with either JavaScript Fetch or Python Request.  Here are some samples, these are not qualified in any way.  \n",
    "- [RapidAPI](https://rapidapi.com/collection/list-of-free-apis)\n",
    "- [GitHub Project](https://github.com/public-apis/public-apis/blob/master/README.md)\n",
    "- [No Key APIs Article](https://nordicapis.com/9-free-public-apis-that-offer-up-some-cool-open-data/)\n",
    "- [Twitter Developer](https://developer.twitter.com/en/docs/twitter-api)\n",
    "- [Google Developer](https://developers.google.com/apis-explorer)\n",
    "- [Reddit Developer](https://www.reddit.com/dev/api/)\n",
    "\n",
    "> Show API and format results in either Web Page or Jupyter Notebook.  Ultimately, I will expect that we do APIs in backend (Python/Flask).  However, for this Hack you can pick your preference.  We will discuss pros and cons in next API tech talk."
   ]
  },
  {
   "cell_type": "code",
   "execution_count": 17,
   "metadata": {},
   "outputs": [
    {
     "name": "stdout",
     "output_type": "stream",
     "text": [
      "Song         Artist\n",
      "-----------  -----------\n",
      "placeholder  placeholder\n",
      "placeholder  placeholder\n",
      "placeholder  placeholder\n"
     ]
    }
   ],
   "source": [
    "from tabulate import tabulate\n",
    "from matplotlib import artist\n",
    "import requests\n",
    "\n",
    "url = \"https://spotify81.p.rapidapi.com/artist_singles\"\n",
    "\n",
    "querystring = {\"id\":\"2w9zwq3AktTeYYMuhMjju8\"}\n",
    "\n",
    "headers = {\n",
    "\t\"X-RapidAPI-Key\": \"8222bd61f1mshad1ad1dfca1b2bcp1aa093jsnd4c03fb4a7ae\",\n",
    "\t\"X-RapidAPI-Host\": \"spotify81.p.rapidapi.com\"\n",
    "}\n",
    "\n",
    "song1 = \"placeholder\"\n",
    "song2 = \"placeholder\"\n",
    "song3 = \"placeholder\"\n",
    "\n",
    "artist1 = \"placeholder\"\n",
    "artist2 = \"placeholder\"\n",
    "artist3 = \"placeholder\"\n",
    "\n",
    "#create data\n",
    "data = [[song1, artist1], \n",
    "        [song2, artist2], \n",
    "        [song3, artist3],]\n",
    "  \n",
    "#define header names\n",
    "col_names = [\"Song\", \"Artist\"]\n",
    "  \n",
    "#display table\n",
    "print(tabulate(data, headers=col_names))"
   ]
  },
  {
   "cell_type": "code",
   "execution_count": 20,
   "metadata": {},
   "outputs": [
    {
     "name": "stdout",
     "output_type": "stream",
     "text": [
      "{'data': {'artist': {'discography': {'singles': {'totalCount': 213, 'items': [{'releases': {'items': [{'id': '1ez9K0s4OR2V0f8tttDv75', 'uri': 'spotify:album:1ez9K0s4OR2V0f8tttDv75', 'name': 'Hello Hello', 'type': 'SINGLE', 'date': {'year': 2022, 'isoString': '2022-10-07T00:00:00Z'}, 'coverArt': {'sources': [{'url': 'https://i.scdn.co/image/ab67616d00001e02beb276e8ce6ce9d53cfff5c0', 'width': 300, 'height': 300}, {'url': 'https://i.scdn.co/image/ab67616d00004851beb276e8ce6ce9d53cfff5c0', 'width': 64, 'height': 64}, {'url': 'https://i.scdn.co/image/ab67616d0000b273beb276e8ce6ce9d53cfff5c0', 'width': 640, 'height': 640}]}, 'playability': {'playable': True, 'reason': 'PLAYABLE'}, 'sharingInfo': {'shareId': 'CZg36vpcTdKIbr8Gcmk05w', 'shareUrl': 'https://open.spotify.com/album/1ez9K0s4OR2V0f8tttDv75?si=CZg36vpcTdKIbr8Gcmk05w'}, 'tracks': {'totalCount': 1}}]}}, {'releases': {'items': [{'id': '70GSvRwILjynWHs5qAcDPY', 'uri': 'spotify:album:70GSvRwILjynWHs5qAcDPY', 'name': 'Wherever You Go (with Reynmen)', 'type': 'SINGLE', 'date': {'year': 2022, 'isoString': '2022-08-26T00:00:00Z'}, 'coverArt': {'sources': [{'url': 'https://i.scdn.co/image/ab67616d00001e02e59b6b12320b639a72c0f360', 'width': 300, 'height': 300}, {'url': 'https://i.scdn.co/image/ab67616d00004851e59b6b12320b639a72c0f360', 'width': 64, 'height': 64}, {'url': 'https://i.scdn.co/image/ab67616d0000b273e59b6b12320b639a72c0f360', 'width': 640, 'height': 640}]}, 'playability': {'playable': True, 'reason': 'PLAYABLE'}, 'sharingInfo': {'shareId': '82N5v0wiQ9OGapNpT6pMLw', 'shareUrl': 'https://open.spotify.com/album/70GSvRwILjynWHs5qAcDPY?si=82N5v0wiQ9OGapNpT6pMLw'}, 'tracks': {'totalCount': 2}}]}}, {'releases': {'items': [{'id': '33zJ4SIK5Tf8YXlYSsvelT', 'uri': 'spotify:album:33zJ4SIK5Tf8YXlYSsvelT', 'name': 'Wherever You Go', 'type': 'SINGLE', 'date': {'year': 2022, 'isoString': '2022-08-26T00:00:00Z'}, 'coverArt': {'sources': [{'url': 'https://i.scdn.co/image/ab67616d00001e02eefcba3ad842daa6f87a6896', 'width': 300, 'height': 300}, {'url': 'https://i.scdn.co/image/ab67616d00004851eefcba3ad842daa6f87a6896', 'width': 64, 'height': 64}, {'url': 'https://i.scdn.co/image/ab67616d0000b273eefcba3ad842daa6f87a6896', 'width': 640, 'height': 640}]}, 'playability': {'playable': True, 'reason': 'PLAYABLE'}, 'sharingInfo': {'shareId': 'kasjJ-YoT0G1qMmx--LXRg', 'shareUrl': 'https://open.spotify.com/album/33zJ4SIK5Tf8YXlYSsvelT?si=kasjJ-YoT0G1qMmx--LXRg'}, 'tracks': {'totalCount': 1}}]}}, {'releases': {'items': [{'id': '63oBgdhy76nv9I1LLhZQ3b', 'uri': 'spotify:album:63oBgdhy76nv9I1LLhZQ3b', 'name': 'Wherever You Go (Mert Hakan Remix)', 'type': 'SINGLE', 'date': {'year': 2022, 'isoString': '2022-08-23T00:00:00Z'}, 'coverArt': {'sources': [{'url': 'https://i.scdn.co/image/ab67616d00001e02259e22b2b451d91d2158dcc5', 'width': 300, 'height': 300}, {'url': 'https://i.scdn.co/image/ab67616d00004851259e22b2b451d91d2158dcc5', 'width': 64, 'height': 64}, {'url': 'https://i.scdn.co/image/ab67616d0000b273259e22b2b451d91d2158dcc5', 'width': 640, 'height': 640}]}, 'playability': {'playable': True, 'reason': 'PLAYABLE'}, 'sharingInfo': {'shareId': 'VxirXtc-TWuo72hK47GBSw', 'shareUrl': 'https://open.spotify.com/album/63oBgdhy76nv9I1LLhZQ3b?si=VxirXtc-TWuo72hK47GBSw'}, 'tracks': {'totalCount': 1}}]}}, {'releases': {'items': [{'id': '7jeN8JERMZOCQfn0ETUnYY', 'uri': 'spotify:album:7jeN8JERMZOCQfn0ETUnYY', 'name': 'Magical Love (Maesic Remix)', 'type': 'SINGLE', 'date': {'year': 2022, 'isoString': '2022-06-18T00:00:00Z'}, 'coverArt': {'sources': [{'url': 'https://i.scdn.co/image/ab67616d00001e022b961fe8d7fde37d76563247', 'width': 300, 'height': 300}, {'url': 'https://i.scdn.co/image/ab67616d000048512b961fe8d7fde37d76563247', 'width': 64, 'height': 64}, {'url': 'https://i.scdn.co/image/ab67616d0000b2732b961fe8d7fde37d76563247', 'width': 640, 'height': 640}]}, 'playability': {'playable': True, 'reason': 'PLAYABLE'}, 'sharingInfo': {'shareId': 'aKMeEt5vTA-dLZ9HrWssGQ', 'shareUrl': 'https://open.spotify.com/album/7jeN8JERMZOCQfn0ETUnYY?si=aKMeEt5vTA-dLZ9HrWssGQ'}, 'tracks': {'totalCount': 3}}]}}, {'releases': {'items': [{'id': '3hqE43sWPNyUZZut3VNgMU', 'uri': 'spotify:album:3hqE43sWPNyUZZut3VNgMU', 'name': 'Magical Love', 'type': 'SINGLE', 'date': {'year': 2022, 'isoString': '2022-06-17T00:00:00Z'}, 'coverArt': {'sources': [{'url': 'https://i.scdn.co/image/ab67616d00001e02d8216408dc5ecb0be72e9730', 'width': 300, 'height': 300}, {'url': 'https://i.scdn.co/image/ab67616d00004851d8216408dc5ecb0be72e9730', 'width': 64, 'height': 64}, {'url': 'https://i.scdn.co/image/ab67616d0000b273d8216408dc5ecb0be72e9730', 'width': 640, 'height': 640}]}, 'playability': {'playable': True, 'reason': 'PLAYABLE'}, 'sharingInfo': {'shareId': '73E7WA56RlmuS4uai4ObVg', 'shareUrl': 'https://open.spotify.com/album/3hqE43sWPNyUZZut3VNgMU?si=73E7WA56RlmuS4uai4ObVg'}, 'tracks': {'totalCount': 1}}]}}, {'releases': {'items': [{'id': '1UbFg8AzX8omvIxlQEMKUO', 'uri': 'spotify:album:1UbFg8AzX8omvIxlQEMKUO', 'name': 'Talk', 'type': 'SINGLE', 'date': {'year': 2022, 'isoString': '2022-06-03T00:00:00Z'}, 'coverArt': {'sources': [{'url': 'https://i.scdn.co/image/ab67616d00001e02dc487236aeef607d7b172d73', 'width': 300, 'height': 300}, {'url': 'https://i.scdn.co/image/ab67616d00004851dc487236aeef607d7b172d73', 'width': 64, 'height': 64}, {'url': 'https://i.scdn.co/image/ab67616d0000b273dc487236aeef607d7b172d73', 'width': 640, 'height': 640}]}, 'playability': {'playable': True, 'reason': 'PLAYABLE'}, 'sharingInfo': {'shareId': 'bZ87whhoRaq6qAbcZ_lfgg', 'shareUrl': 'https://open.spotify.com/album/1UbFg8AzX8omvIxlQEMKUO?si=bZ87whhoRaq6qAbcZ_lfgg'}, 'tracks': {'totalCount': 1}}]}}, {'releases': {'items': [{'id': '4rbCiSzxFxubcovAjLsdVv', 'uri': 'spotify:album:4rbCiSzxFxubcovAjLsdVv', 'name': 'Tare', 'type': 'SINGLE', 'date': {'year': 2022, 'isoString': '2022-04-05T00:00:00Z'}, 'coverArt': {'sources': [{'url': 'https://i.scdn.co/image/ab67616d00001e0255c99de91c07edf0092ebc4d', 'width': 300, 'height': 300}, {'url': 'https://i.scdn.co/image/ab67616d0000485155c99de91c07edf0092ebc4d', 'width': 64, 'height': 64}, {'url': 'https://i.scdn.co/image/ab67616d0000b27355c99de91c07edf0092ebc4d', 'width': 640, 'height': 640}]}, 'playability': {'playable': True, 'reason': 'PLAYABLE'}, 'sharingInfo': {'shareId': 'x-rL-bm7TUyRt71pOuO2gg', 'shareUrl': 'https://open.spotify.com/album/4rbCiSzxFxubcovAjLsdVv?si=x-rL-bm7TUyRt71pOuO2gg'}, 'tracks': {'totalCount': 1}}]}}, {'releases': {'items': [{'id': '7DDqCPpZjHqLK3fuD1JaD6', 'uri': 'spotify:album:7DDqCPpZjHqLK3fuD1JaD6', 'name': 'Tare (Albwho Remix)', 'type': 'SINGLE', 'date': {'year': 2022, 'isoString': '2022-04-01T00:00:00Z'}, 'coverArt': {'sources': [{'url': 'https://i.scdn.co/image/ab67616d00001e02ef264c213f1f426953bf4a57', 'width': 300, 'height': 300}, {'url': 'https://i.scdn.co/image/ab67616d00004851ef264c213f1f426953bf4a57', 'width': 64, 'height': 64}, {'url': 'https://i.scdn.co/image/ab67616d0000b273ef264c213f1f426953bf4a57', 'width': 640, 'height': 640}]}, 'playability': {'playable': True, 'reason': 'PLAYABLE'}, 'sharingInfo': {'shareId': 'OyivIOd3QYWQGA0biH2a5Q', 'shareUrl': 'https://open.spotify.com/album/7DDqCPpZjHqLK3fuD1JaD6?si=OyivIOd3QYWQGA0biH2a5Q'}, 'tracks': {'totalCount': 1}}]}}, {'releases': {'items': [{'id': '49suZMTVKKsLNX34EqQ7mc', 'uri': 'spotify:album:49suZMTVKKsLNX34EqQ7mc', 'name': 'Déjà Vu', 'type': 'SINGLE', 'date': {'year': 2022, 'isoString': '2022-03-25T00:00:00Z'}, 'coverArt': {'sources': [{'url': 'https://i.scdn.co/image/ab67616d00001e026bc9d2d0e42cddd1c6977586', 'width': 300, 'height': 300}, {'url': 'https://i.scdn.co/image/ab67616d000048516bc9d2d0e42cddd1c6977586', 'width': 64, 'height': 64}, {'url': 'https://i.scdn.co/image/ab67616d0000b2736bc9d2d0e42cddd1c6977586', 'width': 640, 'height': 640}]}, 'playability': {'playable': True, 'reason': 'PLAYABLE'}, 'sharingInfo': {'shareId': 'OLMT80KHROWAqjtol_XSSA', 'shareUrl': 'https://open.spotify.com/album/49suZMTVKKsLNX34EqQ7mc?si=OLMT80KHROWAqjtol_XSSA'}, 'tracks': {'totalCount': 1}}]}}, {'releases': {'items': [{'id': '4MCOi8ZgIluCg50QR2iU1w', 'uri': 'spotify:album:4MCOi8ZgIluCg50QR2iU1w', 'name': 'UP (Kaluma Remix)', 'type': 'SINGLE', 'date': {'year': 2022, 'isoString': '2022-03-10T00:00:00Z'}, 'coverArt': {'sources': [{'url': 'https://i.scdn.co/image/ab67616d00001e024b30c10e877142918872ad2f', 'width': 300, 'height': 300}, {'url': 'https://i.scdn.co/image/ab67616d000048514b30c10e877142918872ad2f', 'width': 64, 'height': 64}, {'url': 'https://i.scdn.co/image/ab67616d0000b2734b30c10e877142918872ad2f', 'width': 640, 'height': 640}]}, 'playability': {'playable': True, 'reason': 'PLAYABLE'}, 'sharingInfo': {'shareId': '1Dw-fSCeS8y8ORbfy5-HWw', 'shareUrl': 'https://open.spotify.com/album/4MCOi8ZgIluCg50QR2iU1w?si=1Dw-fSCeS8y8ORbfy5-HWw'}, 'tracks': {'totalCount': 1}}]}}, {'releases': {'items': [{'id': '4gUM4llwsErkQQ1VqBvE2D', 'uri': 'spotify:album:4gUM4llwsErkQQ1VqBvE2D', 'name': 'UP (Arem Ozguc & Arman Aydin Remix)', 'type': 'SINGLE', 'date': {'year': 2022, 'isoString': '2022-02-28T00:00:00Z'}, 'coverArt': {'sources': [{'url': 'https://i.scdn.co/image/ab67616d00001e022c9c3a51bea7bc70a92a5c94', 'width': 300, 'height': 300}, {'url': 'https://i.scdn.co/image/ab67616d000048512c9c3a51bea7bc70a92a5c94', 'width': 64, 'height': 64}, {'url': 'https://i.scdn.co/image/ab67616d0000b2732c9c3a51bea7bc70a92a5c94', 'width': 640, 'height': 640}]}, 'playability': {'playable': True, 'reason': 'PLAYABLE'}, 'sharingInfo': {'shareId': 'coXkyu5sQQ-xnuTtFz3kxg', 'shareUrl': 'https://open.spotify.com/album/4gUM4llwsErkQQ1VqBvE2D?si=coXkyu5sQQ-xnuTtFz3kxg'}, 'tracks': {'totalCount': 1}}]}}, {'releases': {'items': [{'id': '49D6ut4LdJCBD90wRWzfe6', 'uri': 'spotify:album:49D6ut4LdJCBD90wRWzfe6', 'name': 'Lalele', 'type': 'SINGLE', 'date': {'year': 2022, 'isoString': '2022-01-20T00:00:00Z'}, 'coverArt': {'sources': [{'url': 'https://i.scdn.co/image/ab67616d00001e021f43d9d7588ec1c832b8f2dc', 'width': 300, 'height': 300}, {'url': 'https://i.scdn.co/image/ab67616d000048511f43d9d7588ec1c832b8f2dc', 'width': 64, 'height': 64}, {'url': 'https://i.scdn.co/image/ab67616d0000b2731f43d9d7588ec1c832b8f2dc', 'width': 640, 'height': 640}]}, 'playability': {'playable': True, 'reason': 'PLAYABLE'}, 'sharingInfo': {'shareId': 'eJnmQkKLRl2yhWoaHbOU6g', 'shareUrl': 'https://open.spotify.com/album/49D6ut4LdJCBD90wRWzfe6?si=eJnmQkKLRl2yhWoaHbOU6g'}, 'tracks': {'totalCount': 1}}]}}, {'releases': {'items': [{'id': '2jA1exLaHCcpHtDrGLKTmy', 'uri': 'spotify:album:2jA1exLaHCcpHtDrGLKTmy', 'name': 'UP', 'type': 'SINGLE', 'date': {'year': 2021, 'isoString': '2021-12-17T00:00:00Z'}, 'coverArt': {'sources': [{'url': 'https://i.scdn.co/image/ab67616d00001e027bd254131ac1f8678448d076', 'width': 300, 'height': 300}, {'url': 'https://i.scdn.co/image/ab67616d000048517bd254131ac1f8678448d076', 'width': 64, 'height': 64}, {'url': 'https://i.scdn.co/image/ab67616d0000b2737bd254131ac1f8678448d076', 'width': 640, 'height': 640}]}, 'playability': {'playable': True, 'reason': 'PLAYABLE'}, 'sharingInfo': {'shareId': 'hy3k3x_uQMC6JvzqJhDOlw', 'shareUrl': 'https://open.spotify.com/album/2jA1exLaHCcpHtDrGLKTmy?si=hy3k3x_uQMC6JvzqJhDOlw'}, 'tracks': {'totalCount': 1}}]}}, {'releases': {'items': [{'id': '6uvP8hlbI9X3RleKNVmBzT', 'uri': 'spotify:album:6uvP8hlbI9X3RleKNVmBzT', 'name': 'UP (Robert Cristian Remix)', 'type': 'SINGLE', 'date': {'year': 2021, 'isoString': '2021-12-03T00:00:00Z'}, 'coverArt': {'sources': [{'url': 'https://i.scdn.co/image/ab67616d00001e021271f5f16702f3516f86579d', 'width': 300, 'height': 300}, {'url': 'https://i.scdn.co/image/ab67616d000048511271f5f16702f3516f86579d', 'width': 64, 'height': 64}, {'url': 'https://i.scdn.co/image/ab67616d0000b2731271f5f16702f3516f86579d', 'width': 640, 'height': 640}]}, 'playability': {'playable': True, 'reason': 'PLAYABLE'}, 'sharingInfo': {'shareId': 'daNp_2sjTNysFwPNj0yZHw', 'shareUrl': 'https://open.spotify.com/album/6uvP8hlbI9X3RleKNVmBzT?si=daNp_2sjTNysFwPNj0yZHw'}, 'tracks': {'totalCount': 1}}]}}, {'releases': {'items': [{'id': '5kjggiiZEcRzFvQ4rowAsQ', 'uri': 'spotify:album:5kjggiiZEcRzFvQ4rowAsQ', 'name': 'De Dragul Tău', 'type': 'SINGLE', 'date': {'year': 2021, 'isoString': '2021-11-26T00:00:00Z'}, 'coverArt': {'sources': [{'url': 'https://i.scdn.co/image/ab67616d00001e02da7c4e91509943b3c7cf8ef4', 'width': 300, 'height': 300}, {'url': 'https://i.scdn.co/image/ab67616d00004851da7c4e91509943b3c7cf8ef4', 'width': 64, 'height': 64}, {'url': 'https://i.scdn.co/image/ab67616d0000b273da7c4e91509943b3c7cf8ef4', 'width': 640, 'height': 640}]}, 'playability': {'playable': True, 'reason': 'PLAYABLE'}, 'sharingInfo': {'shareId': '6Z38rQNCT0yjo7C_5ziQkQ', 'shareUrl': 'https://open.spotify.com/album/5kjggiiZEcRzFvQ4rowAsQ?si=6Z38rQNCT0yjo7C_5ziQkQ'}, 'tracks': {'totalCount': 1}}]}}, {'releases': {'items': [{'id': '21x0bCve7UJ7ZAapjt8GFz', 'uri': 'spotify:album:21x0bCve7UJ7ZAapjt8GFz', 'name': 'UP', 'type': 'SINGLE', 'date': {'year': 2021, 'isoString': '2021-10-29T00:00:00Z'}, 'coverArt': {'sources': [{'url': 'https://i.scdn.co/image/ab67616d00001e0265f27da14d572556a8a59755', 'width': 300, 'height': 300}, {'url': 'https://i.scdn.co/image/ab67616d0000485165f27da14d572556a8a59755', 'width': 64, 'height': 64}, {'url': 'https://i.scdn.co/image/ab67616d0000b27365f27da14d572556a8a59755', 'width': 640, 'height': 640}]}, 'playability': {'playable': True, 'reason': 'PLAYABLE'}, 'sharingInfo': {'shareId': 'iy67sksRQ9-ZPdK7_CQwSg', 'shareUrl': 'https://open.spotify.com/album/21x0bCve7UJ7ZAapjt8GFz?si=iy67sksRQ9-ZPdK7_CQwSg'}, 'tracks': {'totalCount': 1}}]}}, {'releases': {'items': [{'id': '3wBRVC1SMfIEdsr9thFSYJ', 'uri': 'spotify:album:3wBRVC1SMfIEdsr9thFSYJ', 'name': 'UP (Vadim Adamov & Hardphol Remix)', 'type': 'SINGLE', 'date': {'year': 2021, 'isoString': '2021-10-28T00:00:00Z'}, 'coverArt': {'sources': [{'url': 'https://i.scdn.co/image/ab67616d00001e0200296e006391b562e8c70563', 'width': 300, 'height': 300}, {'url': 'https://i.scdn.co/image/ab67616d0000485100296e006391b562e8c70563', 'width': 64, 'height': 64}, {'url': 'https://i.scdn.co/image/ab67616d0000b27300296e006391b562e8c70563', 'width': 640, 'height': 640}]}, 'playability': {'playable': True, 'reason': 'PLAYABLE'}, 'sharingInfo': {'shareId': 'KpM4AyGLTQahhva6UvC43g', 'shareUrl': 'https://open.spotify.com/album/3wBRVC1SMfIEdsr9thFSYJ?si=KpM4AyGLTQahhva6UvC43g'}, 'tracks': {'totalCount': 1}}]}}, {'releases': {'items': [{'id': '605jn7Lsj6RD4ovYCsnrxe', 'uri': 'spotify:album:605jn7Lsj6RD4ovYCsnrxe', 'name': 'UP (Mert Hakan & Onur Betin Remix)', 'type': 'SINGLE', 'date': {'year': 2021, 'isoString': '2021-10-28T00:00:00Z'}, 'coverArt': {'sources': [{'url': 'https://i.scdn.co/image/ab67616d00001e023a3334b5c3ac49b938312f03', 'width': 300, 'height': 300}, {'url': 'https://i.scdn.co/image/ab67616d000048513a3334b5c3ac49b938312f03', 'width': 64, 'height': 64}, {'url': 'https://i.scdn.co/image/ab67616d0000b2733a3334b5c3ac49b938312f03', 'width': 640, 'height': 640}]}, 'playability': {'playable': True, 'reason': 'PLAYABLE'}, 'sharingInfo': {'shareId': 'Z-NYpJYTQ8S4gjzuOfBDLA', 'shareUrl': 'https://open.spotify.com/album/605jn7Lsj6RD4ovYCsnrxe?si=Z-NYpJYTQ8S4gjzuOfBDLA'}, 'tracks': {'totalCount': 1}}]}}, {'releases': {'items': [{'id': '3QJqG1fLaNGsgjVUroIPCT', 'uri': 'spotify:album:3QJqG1fLaNGsgjVUroIPCT', 'name': 'UP (Filatov & Karas Remix)', 'type': 'SINGLE', 'date': {'year': 2021, 'isoString': '2021-10-28T00:00:00Z'}, 'coverArt': {'sources': [{'url': 'https://i.scdn.co/image/ab67616d00001e02d73086d4cbe065734d124185', 'width': 300, 'height': 300}, {'url': 'https://i.scdn.co/image/ab67616d00004851d73086d4cbe065734d124185', 'width': 64, 'height': 64}, {'url': 'https://i.scdn.co/image/ab67616d0000b273d73086d4cbe065734d124185', 'width': 640, 'height': 640}]}, 'playability': {'playable': True, 'reason': 'PLAYABLE'}, 'sharingInfo': {'shareId': 'gItuHw_cRXuXdbwvi5oLdQ', 'shareUrl': 'https://open.spotify.com/album/3QJqG1fLaNGsgjVUroIPCT?si=gItuHw_cRXuXdbwvi5oLdQ'}, 'tracks': {'totalCount': 1}}]}}]}}}}, 'extensions': {'cacheControl': {'version': 1, 'hints': []}}}\n"
     ]
    }
   ],
   "source": [
    "from matplotlib import artist\n",
    "import requests\n",
    "\n",
    "url = \"https://spotify81.p.rapidapi.com/artist_singles\"\n",
    "\n",
    "querystring = {\"id\":\"2w9zwq3AktTeYYMuhMjju8\"}\n",
    "\n",
    "headers = {\n",
    "\t\"X-RapidAPI-Key\": \"8222bd61f1mshad1ad1dfca1b2bcp1aa093jsnd4c03fb4a7ae\",\n",
    "\t\"X-RapidAPI-Host\": \"spotify81.p.rapidapi.com\"\n",
    "}\n",
    "\n",
    "# response = requests.request(\"GET\", url, headers=headers, params=querystring)\n",
    "\n",
    "print(response.json())\n"
   ]
  }
 ],
 "metadata": {
  "kernelspec": {
   "display_name": "Python 3.9.12 ('base': conda)",
   "language": "python",
   "name": "python3"
  },
  "language_info": {
   "codemirror_mode": {
    "name": "ipython",
    "version": 3
   },
   "file_extension": ".py",
   "mimetype": "text/x-python",
   "name": "python",
   "nbconvert_exporter": "python",
   "pygments_lexer": "ipython3",
   "version": "3.9.12"
  },
  "orig_nbformat": 4,
  "vscode": {
   "interpreter": {
    "hash": "c674d37576c6be53e55a91dd88fae21456458e9a04c854efbf5b2af480977a00"
   }
  }
 },
 "nbformat": 4,
 "nbformat_minor": 2
}
