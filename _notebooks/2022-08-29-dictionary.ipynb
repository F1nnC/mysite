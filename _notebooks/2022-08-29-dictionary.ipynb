{
 "cells": [
  {
   "cell_type": "markdown",
   "metadata": {},
   "source": []
  },
  {
   "cell_type": "markdown",
   "metadata": {},
   "source": [
    "# List and Dictionary\n",
    "\n",
    "---\n",
    "- title: Hello to Python\n",
    "- toc: true\n",
    "- comments: true\n",
    "- tags: [python]\n",
    "---"
   ]
  },
  {
   "cell_type": "code",
   "execution_count": 11,
   "metadata": {},
   "outputs": [
    {
     "name": "stdout",
     "output_type": "stream",
     "text": [
      "[{'FirstName': 'Finn', 'LastName': 'Carpenter', 'DOB': 'December 12', 'Residence': 'San Diego', 'FavColor': 'Blue', 'Email': 'finnc51448@stu.powayusd.com', 'Owns_Cars': ['2012 Nissan Xterra']}, {'FirstName': 'Jake', 'LastName': 'Warren', 'DOB': 'September 8', 'Residence': 'San Diego', 'FavColor': 'Blue', 'Email': 'jacobw22751@stu.powayusd.com', 'Owns_Cars': ['2016-Toyota Tacoma']}]\n"
     ]
    }
   ],
   "source": [
    "InfoDb = []\n",
    "\n",
    "InfoDb.append({\n",
    "    \"FirstName\": \"Finn\",\n",
    "    \"LastName\": \"Carpenter\",\n",
    "    \"DOB\": \"December 12\",\n",
    "    \"Residence\": \"San Diego\",\n",
    "    \"FavColor\": \"Blue\",\n",
    "    \"Email\": \"finnc51448@stu.powayusd.com\",\n",
    "    \"Owns_Cars\": [\"2012 Nissan Xterra\"]\n",
    "})\n",
    "\n",
    "InfoDb.append({\n",
    "    \"FirstName\": \"Jake\", \n",
    "    \"LastName\": \"Warren\",\n",
    "    \"DOB\": \"September 8\",\n",
    "    \"Residence\": \"San Diego\",\n",
    "    \"FavColor\": \"Blue\",\n",
    "    \"Email\": \"jacobw22751@stu.powayusd.com\",\n",
    "    \"Owns_Cars\": [\"2016-Toyota Tacoma\"]\n",
    "})\n",
    "\n",
    "print(InfoDb)\n"
   ]
  },
  {
   "cell_type": "code",
   "execution_count": 12,
   "metadata": {},
   "outputs": [
    {
     "name": "stdout",
     "output_type": "stream",
     "text": [
      "For loop output\n",
      "\n",
      "Finn Carpenter\n",
      "\t Residence: San Diego\n",
      "\t FavColor: Blue\n",
      "\t Birth Day: December 12\n",
      "\t Cars: 2012 Nissan Xterra\n",
      "\n",
      "Jake Warren\n",
      "\t Residence: San Diego\n",
      "\t FavColor: Blue\n",
      "\t Birth Day: September 8\n",
      "\t Cars: 2016-Toyota Tacoma\n",
      "\n"
     ]
    }
   ],
   "source": [
    "def print_data(d_rec):\n",
    "    print(d_rec[\"FirstName\"], d_rec[\"LastName\"])  # using comma puts space between values\n",
    "    print(\"\\t\", \"Residence:\", d_rec[\"Residence\"]) # \\t is a tab indent\n",
    "    print(\"\\t\", \"FavColor:\", d_rec[\"FavColor\"])\n",
    "    print(\"\\t\", \"Birth Day:\", d_rec[\"DOB\"])\n",
    "    print(\"\\t\", \"Cars: \", end=\"\")  # end=\"\" make sure no return occurs\n",
    "    print(\", \".join(d_rec[\"Owns_Cars\"]))  # join allows printing a string list with separator\n",
    "    print()\n",
    "\n",
    "def for_loop():\n",
    "    print(\"For loop output\\n\")\n",
    "    for record in InfoDb:\n",
    "        print_data(record)\n",
    "\n",
    "for_loop()"
   ]
  }
 ],
 "metadata": {
  "kernelspec": {
   "display_name": "Python 3.8.10 64-bit",
   "language": "python",
   "name": "python3"
  },
  "language_info": {
   "codemirror_mode": {
    "name": "ipython",
    "version": 3
   },
   "file_extension": ".py",
   "mimetype": "text/x-python",
   "name": "python",
   "nbconvert_exporter": "python",
   "pygments_lexer": "ipython3",
   "version": "3.8.10"
  },
  "orig_nbformat": 4,
  "vscode": {
   "interpreter": {
    "hash": "916dbcbb3f70747c44a77c7bcd40155683ae19c65e1c03b4aa3499c5328201f1"
   }
  }
 },
 "nbformat": 4,
 "nbformat_minor": 2
}
