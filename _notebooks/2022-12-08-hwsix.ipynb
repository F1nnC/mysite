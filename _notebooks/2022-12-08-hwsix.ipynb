{
 "cells": [
  {
   "attachments": {},
   "cell_type": "markdown",
   "metadata": {},
   "source": [
    "# 3.12 and 3.13 Calling Procedures/Developing Procedures\n",
    "> HW 6\n",
    "- toc: true\n",
    "- badges: true\n",
    "- categories: [.trimester 2 student teaching, functions, abstraction, agorithm]"
   ]
  },
  {
   "attachments": {},
   "cell_type": "markdown",
   "metadata": {},
   "source": [
    "# Notes\n",
    "- To call a prodecure you have to use partheness and the parameter\n",
    "- To determine the result of a procedure or any code, you must follow the code line by line and see what each one does\n",
    "- Parameters can be used to make functions work with multipble inputs\n",
    "\n",
    "\n",
    "# Vocab\n",
    "\n",
    "Procedure: is a named set of instructions that can take in parameters and return values.\n",
    "May be called \"method\" or \"function\" in different programming languages.\n",
    "\n",
    "Parameters: are independent variables used in the procedure to produce a result. It allows a procedure to execute without initially knowing specific input values.\n",
    "\n",
    "Modularity: the practice of breaking a complex program into smaller, independent parts or modules that can be used and reused in different parts of the program\n",
    "\n",
    "Abstraction: the practice of hiding the details of how a particular code or system works and exposing only the essential features or functions that are necessary for other parts of the program to use\n",
    "\n",
    "Duplication: having multiple duplicate code blocks, often decreasing readability and efficiency\n",
    "\n",
    "Logic: the sequence of steps and operations that a computer follows to execute a program, including the specific instructions and decision-making processes built into the code\n",
    "\n",
    "Arguements: a way to provide information to a function, usually defined outside a function and then imported into a function with parameters\n",
    "\n",
    "# Hacks\n",
    "\n",
    "## 3.12 A\n",
    "Procedure: is like a bunch of intrusticions that can take in different values\n",
    "\n",
    "Parameter: an indepentent var that is used in procedures to get a different result\n",
    "\n",
    "![quiz](../images/quiz.png)\n",
    "\n",
    "Return Values: are the bottom part of the function that have the return next them\n",
    "\n",
    "Output Values: the value of whatever is outputed\n"
   ]
  },
  {
   "cell_type": "code",
   "execution_count": 2,
   "metadata": {},
   "outputs": [
    {
     "name": "stdout",
     "output_type": "stream",
     "text": [
      "4.0\n",
      "5.0\n",
      "10.0\n"
     ]
    }
   ],
   "source": [
    "import math\n",
    "\n",
    "# Function\n",
    "def findsqrt(x):\n",
    "    sq = math.sqrt(x)\n",
    "    return sq\n",
    "\n",
    "x = 16\n",
    "\n",
    "# Function printed two different ways\n",
    "print(findsqrt(x))\n",
    "print(findsqrt(25))\n",
    "print(findsqrt(int(input(\"input a number to find its sq root\"))))"
   ]
  },
  {
   "attachments": {},
   "cell_type": "markdown",
   "metadata": {},
   "source": [
    "## 3.13 B\n",
    "- If you abstract your coding it makes you type less and have less code and make you a better more lazier coder\n",
    "\n",
    "- Since we just did math these functions find powers of a certin root, you can change the root and how much you want it for the next value\n"
   ]
  },
  {
   "cell_type": "code",
   "execution_count": 32,
   "metadata": {},
   "outputs": [
    {
     "name": "stdout",
     "output_type": "stream",
     "text": [
      "9\n",
      "243\n"
     ]
    }
   ],
   "source": [
    "number = int(input(\"Pick a number\"))\n",
    "secondpower = int(input(\"What power do you want to also see\"))\n",
    "\n",
    "# main function combines the two\n",
    "def main_function():\n",
    "    result = sub_function1()\n",
    "    print(result)\n",
    "    result2 = sub_function2(result)\n",
    "    return result2\n",
    "\n",
    "# finds the squre\n",
    "def sub_function1():\n",
    "    result = number * number\n",
    "    return result\n",
    "\n",
    "# can change to whatever root you want but will find the cubed\n",
    "def sub_function2(result):\n",
    "    p = 0\n",
    "    while p < (secondpower - 2):\n",
    "        result = result * number\n",
    "        p += 1\n",
    "        if p == (secondpower - 2):\n",
    "            break\n",
    "    return result\n",
    "\n",
    "\n",
    "print(main_function())"
   ]
  },
  {
   "attachments": {},
   "cell_type": "markdown",
   "metadata": {},
   "source": [
    "Hack 3"
   ]
  },
  {
   "cell_type": "code",
   "execution_count": null,
   "metadata": {},
   "outputs": [],
   "source": [
    "def count_words_starting_with(string, character):\n",
    "    # Split the string into a list of words\n",
    "    words = string.split()\n",
    "\n",
    "    # Initialize a counter variable\n",
    "    count = 0\n",
    "\n",
    "    # Iterate over the words and check if each word starts with the given character\n",
    "    for word in words:\n",
    "        if word[0] == character:\n",
    "            count += 1\n",
    "\n",
    "    return count"
   ]
  },
  {
   "attachments": {},
   "cell_type": "markdown",
   "metadata": {},
   "source": [
    "## 3.13 C Hacks\n",
    "- procedure names are just the names that you give procedures\n",
    "- arugments are a value that is passed when a function is called"
   ]
  },
  {
   "attachments": {},
   "cell_type": "markdown",
   "metadata": {},
   "source": [
    "<p>Addition</p>\n",
    "<input type=\"number\" id=\"num1\">\n",
    "<input type=\"number\" id=\"num2\">\n",
    "<button onclick=\"addNumbers()\">Add numbers</button>\n",
    "<p id=\"result1\"></p>\n",
    "\n",
    "<script>\n",
    "      function addNumbers() {\n",
    "        // Get the values of the two numbers\n",
    "        var num1 = document.getElementById(\"num1\").value;\n",
    "        var num2 = document.getElementById(\"num2\").value;\n",
    "\n",
    "        // Convert the values to numbers\n",
    "        num1 = Number(num1);\n",
    "        num2 = Number(num2);\n",
    "\n",
    "        // Add the numbers together\n",
    "        var result = num1 + num2;\n",
    "\n",
    "        // Display the result on the page\n",
    "        document.getElementById(\"result1\").innerHTML = result;\n",
    "      }\n",
    "</script>"
   ]
  },
  {
   "attachments": {},
   "cell_type": "markdown",
   "metadata": {},
   "source": [
    "<p>Subtraction</p>\n",
    "<input type=\"number\" id=\"num3\">\n",
    "<input type=\"number\" id=\"num4\">\n",
    "<button onclick=\"minusNumbers()\">Minus Numbers</button>\n",
    "<p id=\"result2\"></p>\n",
    "\n",
    "<script>\n",
    "    function minusNumbers() {\n",
    "    // Get the values of the two numbers\n",
    "    var num3 = document.getElementById(\"num3\").value;\n",
    "    var num4 = document.getElementById(\"num4\").value;\n",
    "\n",
    "    // Convert the values to numbers\n",
    "    num3 = Number(num3);\n",
    "    num4 = Number(num4);\n",
    "\n",
    "    // Add the numbers together\n",
    "    var result = num3 - num4;\n",
    "\n",
    "    // Display the result on the page\n",
    "    document.getElementById(\"result2\").innerHTML = result;\n",
    "    }\n",
    "</script>"
   ]
  },
  {
   "attachments": {},
   "cell_type": "markdown",
   "metadata": {},
   "source": [
    "<p>Multiply</p>\n",
    "<input type=\"number\" id=\"num5\">\n",
    "<input type=\"number\" id=\"num6\">\n",
    "<button onclick=\"multiNumbers()\">Multiply Numbers</button>\n",
    "<p id=\"result3\"></p>\n",
    "\n",
    "<script>\n",
    "    function multiNumbers() {\n",
    "    // Get the values of the two numbers\n",
    "    var num5 = document.getElementById(\"num5\").value;\n",
    "    var num6 = document.getElementById(\"num6\").value;\n",
    "\n",
    "    // Convert the values to numbers\n",
    "    num5 = Number(num5);\n",
    "    num6 = Number(num6);\n",
    "\n",
    "    // Add the numbers together\n",
    "    var result = num5 * num6;\n",
    "\n",
    "    // Display the result on the page\n",
    "    document.getElementById(\"result3\").innerHTML = result;\n",
    "    }\n",
    "</script>"
   ]
  },
  {
   "attachments": {},
   "cell_type": "markdown",
   "metadata": {},
   "source": [
    "<p>Divide</p>\n",
    "<input type=\"number\" id=\"num7\">\n",
    "<input type=\"number\" id=\"num8\">\n",
    "<button onclick=\"diviNumbers()\">Divide Numbers</button>\n",
    "<p id=\"resul\"></p>\n",
    "\n",
    "<script>\n",
    "    function diviNumbers() {\n",
    "    // Get the values of the two numbers\n",
    "    var num7 = document.getElementById(\"num7\").value;\n",
    "    var num8 = document.getElementById(\"num8\").value;\n",
    "\n",
    "    // Convert the values to numbers\n",
    "    num7 = Number(num7);\n",
    "    num8 = Number(num8);\n",
    "\n",
    "    // Add the numbers together\n",
    "    var result = num7 / num8;\n",
    "\n",
    "    // Display the result on the page\n",
    "    document.getElementById(\"resul\").innerHTML = result;\n",
    "    }\n",
    "</script>"
   ]
  }
 ],
 "metadata": {
  "kernelspec": {
   "display_name": "base",
   "language": "python",
   "name": "python3"
  },
  "language_info": {
   "codemirror_mode": {
    "name": "ipython",
    "version": 3
   },
   "file_extension": ".py",
   "mimetype": "text/x-python",
   "name": "python",
   "nbconvert_exporter": "python",
   "pygments_lexer": "ipython3",
   "version": "3.9.12 (main, Apr  5 2022, 06:56:58) \n[GCC 7.5.0]"
  },
  "orig_nbformat": 4,
  "vscode": {
   "interpreter": {
    "hash": "c674d37576c6be53e55a91dd88fae21456458e9a04c854efbf5b2af480977a00"
   }
  }
 },
 "nbformat": 4,
 "nbformat_minor": 2
}
