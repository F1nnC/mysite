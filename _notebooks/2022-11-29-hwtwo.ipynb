{
 "cells": [
  {
   "cell_type": "markdown",
   "metadata": {},
   "source": [
    "# Notes\n",
    "- Algorithms are a finite set of instructions that accomplish a task. it has three parts, sequence, selection, and iteration\n",
    "- A sequence is the order of how to do something to achieve a result, similarly to how you follow the instructions from a teacher.\n",
    "- A selection allows an algorithm to make a decision based on if a condition is met, an example of this is when your car is out of fuel, you go to the gas station to fill your car, but if your car is full you wouldn't go to the gas station.\n",
    "- An iteration is a loop and doing something again until a condition is met, like you put away your computer when you are finished with your work.\n",
    "- Arithmetic uses addition, subtraction, division, multiplication, and modulus operator\n",
    "- Addition: a+b\n",
    "- Subtraction: a-b\n",
    "- Multiplication: a*b\n",
    "- Division: a/b\n",
    "- Modulus: a MOD b\n",
    "- (a and b can be string or number)\n",
    "- A string concatenation connects two or more string end-to-end to make a new string\n",
    "- Len() gives the character number\n",
    "- strings are variables and can be joined together through the print() command to make a statement "
   ]
  },
  {
   "cell_type": "markdown",
   "metadata": {},
   "source": [
    "# Hacks\n",
    "## 1\n",
    "Sequence\n",
    "Sequence\n",
    "Selection\n",
    "Iteration/Selection\n",
    "Sequence\n",
    "The sequences are just the items and steps in order. The first set is to set item to a number and then get next number in the list.\n",
    "The slection is number three and number 4 because it is making a decion based on and input and giving a different output depending on what the input was.\n",
    "The iteration is 4 because it is redirecting the code also known as looping.\n",
    "## 2"
   ]
  },
  {
   "cell_type": "code",
   "execution_count": null,
   "metadata": {},
   "outputs": [],
   "source": [
    "num1 = 5\n",
    "num2 = num1 * 3\n",
    "num3 = num2 / num1 * (9 % 2) * 4\n",
    "result = (num3 % num1 + num2) % num3 * 3 / 5"
   ]
  },
  {
   "cell_type": "markdown",
   "metadata": {},
   "source": [
    "5 X 3 = 15/5= 3 9/2 leaves remainder of 1 1 X 4 X 3 = 12 12 % 5 = 2 + 12 = 15 17 % 12 = 5 5 X 3= 15 15/5= 3"
   ]
  },
  {
   "cell_type": "markdown",
   "metadata": {},
   "source": [
    "## 3\n",
    "![python quiz](https://jakewarren2414.github.io/FirstFastpages/images/images/StringsQuiz.png)"
   ]
  }
 ],
 "metadata": {
  "language_info": {
   "name": "python"
  },
  "orig_nbformat": 4
 },
 "nbformat": 4,
 "nbformat_minor": 2
}
