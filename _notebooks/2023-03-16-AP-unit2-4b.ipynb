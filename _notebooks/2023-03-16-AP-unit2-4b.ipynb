{
 "cells": [
  {
   "attachments": {},
   "cell_type": "markdown",
   "metadata": {},
   "source": [
    "#  Unit 2.4a Using Programs with Data, SQLAlchemy\n",
    "> Using Programs with Data is focused on SQL and database actions.  Part A focuses on SQLAlchemy and an OOP programming style,\n",
    "- toc: true\n",
    "- permalink: /t\n",
    "- categories: []"
   ]
  },
  {
   "attachments": {},
   "cell_type": "markdown",
   "metadata": {},
   "source": [
    "# Database Programming is Program with Data\n",
    "> Each Tri 2 Final Project should be an example of a Program with Data. \n",
    "\n",
    ">  Prepare to use SQLite in common Imperative Technique\n",
    "- Explore [SQLite Connect object](https://www.tutorialspoint.com/python_data_access/python_sqlite_establishing_connection.htm) to establish database connection\n",
    "- Explore [SQLite Cursor Object](https://www.tutorialspoint.com/python_data_access/python_sqlite_cursor_object.htm) to fetch data from a table within a database\n"
   ]
  },
  {
   "attachments": {},
   "cell_type": "markdown",
   "metadata": {},
   "source": [
    "## Schema of Users table in Sqlite.db\n",
    "> Uses PRAGMA statement to read schema.\n",
    "\n",
    "Describe Schema, here is resource [Resource](https://www.sqlite.org/index.html)\n",
    "- What is a database schema?\n",
    "    - It defines how the data is organized and how it can be accessed and modified by users and applications.\n",
    "- What is the purpose of identity Column in SQL database?\n",
    "    - It can be used as a primary key or as a reference in foreign keys to establish relationships between tables.\n",
    "- What is the purpose of a primary key in SQL database?\n",
    "    - It ensures that no two rows have the same values in the primary key column, and it can be used as a reference in foreign keys to establish relationships between tables.\n",
    "- What are the Data Types in SQL table?\n",
    "    - Common data types include integer, real, text, and blob, and each has a specific range of values and storage requirements."
   ]
  },
  {
   "cell_type": "code",
   "execution_count": 3,
   "metadata": {},
   "outputs": [],
   "source": [
    "import sqlite3\n",
    "\n",
    "database = 'instance/hw.db' # this is location of database\n",
    "\n",
    "\n",
    "def hw_schema():\n",
    "    \n",
    "    # Connect to the database file\n",
    "    conn = sqlite3.connect(database)\n",
    "\n",
    "    # Create a cursor object to execute SQL queries\n",
    "    cursor = conn.cursor()\n",
    "    \n",
    "    # Fetch results of Schema\n",
    "    results = cursor.execute(\"PRAGMA table_info('homework')\").fetchall()\n",
    "\n",
    "    # Print the results\n",
    "    for row in results:\n",
    "        print(row)\n",
    "\n",
    "    # Close the database connection\n",
    "    conn.close()\n",
    "    \n",
    "hw_schema()\n"
   ]
  },
  {
   "attachments": {},
   "cell_type": "markdown",
   "metadata": {},
   "source": [
    "## Reading Users table in Sqlite.db\n",
    "> Uses SQL SELECT statement to read data\n",
    "\n",
    "- What is a connection object?  After you google it, what do you think it does?\n",
    "    - It provides methods for connecting to a database, executing SQL statements, and managing transactions.\n",
    "- Same for cursor object?\n",
    "    - It provides methods for navigating the result set, fetching rows, and executing SQL statements.\n",
    "- Look at conn object and cursor object in VSCode debugger.  What attributes are in the object?\n",
    "    - Connection object:\n",
    "        - database: the name of the connected database\n",
    "        - user: the name of the user used to connect to the database\n",
    "        - host: the name of the host or IP address of the database server\n",
    "        - port: the port number used to connect to the database server\n",
    "    - Cursor object:\n",
    "        - description: a list of tuples that describes the columns in the current result set\n",
    "        - rowcount: the number of rows affected by the last SQL statement\n",
    "- Is \"results\" an object?  How do you know?\n",
    "    - Yes because it has attriubutes"
   ]
  },
  {
   "cell_type": "code",
   "execution_count": 25,
   "metadata": {},
   "outputs": [],
   "source": [
    "import sqlite3\n",
    "\n",
    "def hw_read():\n",
    "    # Connect to the database file\n",
    "    conn = sqlite3.connect(database)\n",
    "\n",
    "    # Create a cursor object to execute SQL queries\n",
    "    cursor = conn.cursor()\n",
    "    \n",
    "    # Execute a SELECT statement to retrieve data from a table\n",
    "    results = cursor.execute('SELECT * FROM homework').fetchall()\n",
    "    # Print the results\n",
    "    if len(results) == 0:\n",
    "        print(\"Table is empty\")\n",
    "    else:\n",
    "        for row in results:\n",
    "            print(row)\n",
    "\n",
    "    # Close the cursor and connection objects\n",
    "    cursor.close()\n",
    "    conn.close()\n",
    "    \n",
    "# hw_read()\n"
   ]
  },
  {
   "attachments": {},
   "cell_type": "markdown",
   "metadata": {},
   "source": [
    "## Create a new User in table in Sqlite.db\n",
    "> Uses SQL INSERT to add row\n",
    "-  Compore create() in both SQL lessons.  What is better or worse in the two implementations?\n",
    "-  Explain purpose of SQL INSERT.   Is this the same as User __init__?"
   ]
  },
  {
   "cell_type": "code",
   "execution_count": 24,
   "metadata": {},
   "outputs": [],
   "source": [
    "import sqlite3\n",
    "\n",
    "def hw_create():\n",
    "    Teacher = input(\"Enter your name: Ms/Mr (blank)\")\n",
    "    uid = input(\"Enter your user id:\")\n",
    "    homework = input(\"Enter the homework\")\n",
    "    \n",
    "    # Connect to the database file\n",
    "    conn = sqlite3.connect(database)\n",
    "\n",
    "    # Create a cursor object to execute SQL commands\n",
    "    cursor = conn.cursor()\n",
    "\n",
    "    try:\n",
    "        # Execute an SQL command to insert data into a table\n",
    "        cursor.execute(\"INSERT INTO hw (_name, _uid, _homework) VALUES (?, ?, ?)\", (Teacher, uid, homework))\n",
    "        \n",
    "        # Commit the changes to the database\n",
    "        conn.commit()\n",
    "        print(f\"A new user record {uid} has been created\")\n",
    "                \n",
    "    except sqlite3.Error as error:\n",
    "        print(\"Error while executing the INSERT:\", error)\n",
    "\n",
    "\n",
    "    # Close the cursor and connection objects\n",
    "    cursor.close()\n",
    "    conn.close()\n",
    "        \n",
    "# hw_create()"
   ]
  },
  {
   "attachments": {},
   "cell_type": "markdown",
   "metadata": {},
   "source": [
    "## Updating a User in table in Sqlite.db\n",
    "> Uses SQL UPDATE to modify password\n",
    "- What does the hacked part do?\n",
    "- Explain try/except, when would except occur?\n",
    "- What code seems to be repeated in each of these examples to point, why is it repeated?"
   ]
  },
  {
   "cell_type": "code",
   "execution_count": 22,
   "metadata": {},
   "outputs": [],
   "source": [
    "import sqlite3\n",
    "\n",
    "def hw_update():\n",
    "    uid = input(\"Enter user id to update\")\n",
    "    password = input(\"Enter updated password\")\n",
    "    if len(password) < 2:\n",
    "        message = \"hacked\"\n",
    "        password = 'gothackednewpassword123'\n",
    "    else:\n",
    "        message = \"successfully updated\"\n",
    "\n",
    "    # Connect to the database file\n",
    "    conn = sqlite3.connect(database)\n",
    "\n",
    "    # Create a cursor object to execute SQL commands\n",
    "    cursor = conn.cursor()\n",
    "\n",
    "    try:\n",
    "        # Execute an SQL command to update data in a table\n",
    "        cursor.execute(\"UPDATE users SET _password = ? WHERE _uid = ?\", (password, uid))\n",
    "        if cursor.rowcount == 0:\n",
    "            # The uid was not found in the table\n",
    "            print(f\"No uid {uid} was not found in the table\")\n",
    "        else:\n",
    "            print(f\"The row with user id {uid} the password has been {message}\")\n",
    "            conn.commit()\n",
    "    except sqlite3.Error as error:\n",
    "        print(\"Error while executing the UPDATE:\", error)\n",
    "        \n",
    "    \n",
    "    # Close the cursor and connection objects\n",
    "    cursor.close()\n",
    "    conn.close()\n",
    "    \n",
    "#update()\n"
   ]
  },
  {
   "attachments": {},
   "cell_type": "markdown",
   "metadata": {},
   "source": [
    "## Delete a User in table in Sqlite.db\n",
    "> Uses a delete function to remove a user based on a user input of the id.\n",
    "- Is DELETE a dangerous operation?  Why?\n",
    "- In the print statemements, what is the \"f\" and what does {uid} do?"
   ]
  },
  {
   "cell_type": "code",
   "execution_count": 21,
   "metadata": {},
   "outputs": [],
   "source": [
    "import sqlite3\n",
    "\n",
    "def hw_delete():\n",
    "    uid = input(\"Enter user id to delete\")\n",
    "\n",
    "    # Connect to the database file\n",
    "    conn = sqlite3.connect(database)\n",
    "\n",
    "    # Create a cursor object to execute SQL commands\n",
    "    cursor = conn.cursor()\n",
    "    \n",
    "    try:\n",
    "        cursor.execute(\"DELETE FROM users WHERE _uid = ?\", (uid,))\n",
    "        if cursor.rowcount == 0:\n",
    "            # The uid was not found in the table\n",
    "            print(f\"No uid {uid} was not found in the table\")\n",
    "        else:\n",
    "            # The uid was found in the table and the row was deleted\n",
    "            print(f\"The row with uid {uid} was successfully deleted\")\n",
    "        conn.commit()\n",
    "    except sqlite3.Error as error:\n",
    "        print(\"Error while executing the DELETE:\", error)\n",
    "        \n",
    "    # Close the cursor and connection objects\n",
    "    cursor.close()\n",
    "    conn.close()\n",
    "    \n",
    "#delete()"
   ]
  },
  {
   "attachments": {},
   "cell_type": "markdown",
   "metadata": {},
   "source": [
    "# Menu Interface to CRUD operations\n",
    "> CRUD and Schema interactions from one location by running menu. Observe input at the top of VSCode, observe output underneath code cell.\n",
    "- Why does the menu repeat?\n",
    "    - recursion\n",
    "- Could you refactor this menu?  Make it work with a List?\n",
    "    - To refactor the menu and make it work with a list, you could define a list of tuples that map each operation to a function, like this:"
   ]
  },
  {
   "cell_type": "code",
   "execution_count": 26,
   "metadata": {},
   "outputs": [
    {
     "name": "stdout",
     "output_type": "stream",
     "text": [
      "(1, 'Mr. Mortensen', 'bigmort123', 'sha256$OBsJEBWd6p7q24hI$b0af1aecf75347e3f6fb8424439b63f6448759d21ba3f1b09ce1ed6348864b33', 'Hacks for 2.4a and b')\n",
      "(2, 'Ms. Calicot', 'ilovechem', 'sha256$XXESs9LAwfxXU8jn$7b7c277e5560db670e7770f54b7ead73bf30e2754c2cb028a23a233b5b43c29f', 'Compound Worksheet')\n",
      "(3, 'Mr. Curry', 'CurrysWorld', 'sha256$Xurr5KOVJUEDY4Ut$af2fa05838f108a10c5f3eafa0a4963099886944318ac13d1f1e9a004eab624a', 'Russia Worksheet')\n",
      "(4, 'Ms. Boehm', 'englishrocks', 'sha256$KClgf9uS2le4tlBg$157ccac7e17221c57baae726d18a7a3b5a217f19140b9f09bba41db9e606f987', 'Logical Fallicies Worksheet')\n",
      "(5, 'Ms. Huang', 'mathontop', 'sha256$KzklN9jhwawaXBEO$46731ae08645bad197b4b59c85506451e2f9698ed156abbeceea84947b572134', 'Problems 7-45 to 7-50')\n",
      "(6, 'Profe Strutton', 'spainshrocks', 'sha256$ApUtTRi40zkzfGl5$dd9b21818b48a6de54447433693c0b37c1f591c7fa3e7ad702a86e6c39a44e9a', 'Read 20mins')\n"
     ]
    }
   ],
   "source": [
    "# Menu, to run other cells from one control point\n",
    "def menu():\n",
    "    options = ['c', 'r', 'u', 'd', 's']\n",
    "    operation = input(\"Enter: (C)reate (R)ead (U)pdate or (D)elete or (S)chema\")\n",
    "    operation = operation.lower()\n",
    "\n",
    "    if operation in options:\n",
    "        index = options.index(operation)\n",
    "        functions = [hw_create, hw_read, hw_update, hw_delete, hw_schema]\n",
    "        functions[index]()\n",
    "    elif len(operation) == 0: # Escape Key\n",
    "        return\n",
    "    else:\n",
    "        print(\"Please enter c, r, u, or d\") \n",
    "    menu() # recursion, repeat menu\n",
    "        \n",
    "try:\n",
    "    menu() # start menu\n",
    "except:\n",
    "    print(\"Perform Jupyter 'Run All' prior to starting menu\")\n"
   ]
  },
  {
   "cell_type": "code",
   "execution_count": 30,
   "metadata": {},
   "outputs": [
    {
     "name": "stdout",
     "output_type": "stream",
     "text": [
      "(1, 'Mr. Mortensen', 'bigmort123', 'sha256$OBsJEBWd6p7q24hI$b0af1aecf75347e3f6fb8424439b63f6448759d21ba3f1b09ce1ed6348864b33', 'Hacks for 2.4a and b')\n",
      "(2, 'Ms. Calicot', 'ilovechem', 'sha256$XXESs9LAwfxXU8jn$7b7c277e5560db670e7770f54b7ead73bf30e2754c2cb028a23a233b5b43c29f', 'Compound Worksheet')\n",
      "(3, 'Mr. Curry', 'CurrysWorld', 'sha256$Xurr5KOVJUEDY4Ut$af2fa05838f108a10c5f3eafa0a4963099886944318ac13d1f1e9a004eab624a', 'Russia Worksheet')\n",
      "(4, 'Ms. Boehm', 'englishrocks', 'sha256$KClgf9uS2le4tlBg$157ccac7e17221c57baae726d18a7a3b5a217f19140b9f09bba41db9e606f987', 'Logical Fallicies Worksheet')\n",
      "(5, 'Ms. Huang', 'mathontop', 'sha256$KzklN9jhwawaXBEO$46731ae08645bad197b4b59c85506451e2f9698ed156abbeceea84947b572134', 'Problems 7-45 to 7-50')\n",
      "(6, 'Profe Strutton', 'spainshrocks', 'sha256$ApUtTRi40zkzfGl5$dd9b21818b48a6de54447433693c0b37c1f591c7fa3e7ad702a86e6c39a44e9a', 'Read 20mins')\n"
     ]
    }
   ],
   "source": [
    "# Menu, to run other cells from one control point\n",
    "def menu():\n",
    "    operation = input(\"Enter: (C)reate (R)ead (U)pdate or (D)elete or (S)chema\")\n",
    "    if operation.lower() == 'c':\n",
    "        hw_create()\n",
    "    elif operation.lower() == 'r':\n",
    "        hw_read()\n",
    "    elif operation.lower() == 'u':\n",
    "        hw_update()\n",
    "    elif operation.lower() == 'd':\n",
    "        hw_delete()\n",
    "    elif operation.lower() == 's':\n",
    "        hw_schema()\n",
    "    elif len(operation)==0: # Escape Key\n",
    "        return\n",
    "    else:\n",
    "        print(\"Please enter c, r, u, or d\") \n",
    "    menu() # recursion, repeat menu\n",
    "        \n",
    "try:\n",
    "    menu() # start menu\n",
    "except:\n",
    "    print(\"Perform Jupyter 'Run All' prior to starting menu\")\n"
   ]
  },
  {
   "attachments": {},
   "cell_type": "markdown",
   "metadata": {},
   "source": [
    "# Hacks\n",
    "- Add this Blog to you own Blogging site.  In the Blog add notes and observations on each code cell.\n",
    "- In this implementation, do you see procedural abstraction?\n",
    "- In 2.4a or 2.4b lecture\n",
    "    - Do you see data abstraction?  Complement this with Debugging example.\n",
    "        - If you debug the menu, and step into one of the hw_functions, it will show the code for them, which abstracts more code itself\n",
    "        - ![](https://f1nnc.github.io/mysite/images/debug.png)\n",
    "    - Use Imperative or OOP style to Create a new Table or do something that applies to your CPT project.\n",
    "        - ![](https://f1nnc.github.io/mysite/images/yep.png)\n",
    "    \n",
    "\n",
    "Reference... [sqlite documentation](https://www.sqlitetutorial.net/sqlite-python/creating-tables/)\n"
   ]
  }
 ],
 "metadata": {
  "kernelspec": {
   "display_name": "base",
   "language": "python",
   "name": "python3"
  },
  "language_info": {
   "codemirror_mode": {
    "name": "ipython",
    "version": 3
   },
   "file_extension": ".py",
   "mimetype": "text/x-python",
   "name": "python",
   "nbconvert_exporter": "python",
   "pygments_lexer": "ipython3",
   "version": "3.9.12"
  },
  "orig_nbformat": 4,
  "vscode": {
   "interpreter": {
    "hash": "8b82d5009c68ba5675978267e2b13a671f2a7143d61273c5a3813c97e0b2493d"
   }
  }
 },
 "nbformat": 4,
 "nbformat_minor": 2
}
