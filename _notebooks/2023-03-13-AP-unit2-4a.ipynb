{
 "cells": [
  {
   "attachments": {},
   "cell_type": "markdown",
   "metadata": {},
   "source": [
    "#  Unit 2.4a Using Programs with Data, SQLAlchemy\n",
    "> Using Programs with Data is focused on SQL and database actions.  Part A focuses on SQLAlchemy and an OOP programming style,\n",
    "- toc: true\n",
    "- permalink: /twofour\n",
    "- categories: []\n",
    "- type: ap\n",
    "- week: 26"
   ]
  },
  {
   "attachments": {},
   "cell_type": "markdown",
   "metadata": {},
   "source": [
    "# Database and SQLAlchemy\n",
    "> In this blog we will explore using programs with data, focused on Databases.  We will use SQLite Database to learn more about using Programs with Data.  ***Use Debugging through these examples to examine Objects created in Code***.\n",
    "\n",
    "- College Board talks about ideas like \n",
    "    - Program Usage. \"iterative and interactive way when processing information\"\n",
    "    - Managing Data.  \"classifying data are part of the process in using programs\", \"data files in a Table\"\n",
    "    - Insight \"insight and knowledge can be obtained from ...  digitally represented information\"\n",
    "    - Filter systems. 'tools for finding information and recognizing patterns\"\n",
    "    - Application. \"the preserve has two databases\", \"an employee wants to count the number of book\"\n",
    "\n",
    "- PBL, Databases, Iterative/OOP\n",
    "    - Iterative. Refers to a sequence of instructions or code being repeated until a specific end result is achieved\n",
    "    - OOP. A computer programming model that organizes software design around data, or objects, rather than functions and logic\n",
    "    - SQL. Structured Query Language, abbreviated as SQL, is a language used in programming, managing, and structuring data \n"
   ]
  },
  {
   "attachments": {},
   "cell_type": "markdown",
   "metadata": {},
   "source": [
    "## Imports and Flask Objects\n",
    "> Defines and key object creations\n",
    "\n",
    "- Comment on where you have observed these working?  Provide a defintion of purpose.\n",
    "    1. Flask app object\n",
    "        - the app takes the data and creats the db propterties\n",
    "    2. SQLAlchemy db object\n",
    "        - the db makes it so the app can be changed by SQLAlchemy\n"
   ]
  },
  {
   "cell_type": "code",
   "execution_count": 45,
   "metadata": {},
   "outputs": [],
   "source": [
    "\"\"\"\n",
    "These imports define the key objects\n",
    "\"\"\"\n",
    "\n",
    "from flask import Flask\n",
    "from flask_sqlalchemy import SQLAlchemy\n",
    "\n",
    "\"\"\"\n",
    "These object and definitions are used throughout the Jupyter Notebook.\n",
    "\"\"\"\n",
    "\n",
    "# Setup of key Flask object (app)\n",
    "app = Flask(__name__)\n",
    "# Setup SQLAlchemy object and properties for the database (db)\n",
    "database = 'sqlite:///hw.db'  # path and filename of database\n",
    "app.config['SQLALCHEMY_TRACK_MODIFICATIONS'] = False\n",
    "app.config['SQLALCHEMY_DATABASE_URI'] = database\n",
    "app.config['SECRET_KEY'] = 'SECRET_KEY'\n",
    "db = SQLAlchemy()\n",
    "\n",
    "\n",
    "# This belongs in place where it runs once per project\n",
    "db.init_app(app)\n"
   ]
  },
  {
   "attachments": {},
   "cell_type": "markdown",
   "metadata": {},
   "source": [
    "## Model Definition\n",
    "> Define columns, initialization, and CRUD methods for users table in sqlite.db\n",
    "\n",
    "- Comment on these items in the class, purpose and defintion.\n",
    "    - class User\n",
    "        - it is the template of the user\n",
    "    - db.Model inheritance\n",
    "        - inhetitance is when the model inherites different values/things from the db\n",
    "    - _init_ method\n",
    "        - the consturctor of the object\n",
    "    - ```@property```, ```@<column>.setter```\n",
    "        - These attriubutes are what set, and get the value of whatever is asked, name, password etc\n",
    "    - create, read, update, delete methods\n",
    "        - CRUD is esstial to all db because you need to create, read, update, and delete constaly in your db"
   ]
  },
  {
   "cell_type": "code",
   "execution_count": 47,
   "metadata": {},
   "outputs": [],
   "source": [
    "\"\"\" database dependencies to support sqlite examples \"\"\"\n",
    "import datetime\n",
    "from datetime import datetime\n",
    "import json\n",
    "\n",
    "from sqlalchemy.exc import IntegrityError\n",
    "from werkzeug.security import generate_password_hash, check_password_hash\n",
    "\n",
    "\n",
    "''' Tutorial: https://www.sqlalchemy.org/library.html#tutorials, try to get into a Python shell and follow along '''\n",
    "\n",
    "# Define the User class to manage actions in the 'users' table\n",
    "# -- Object Relational Mapping (ORM) is the key concept of SQLAlchemy\n",
    "# -- a.) db.Model is like an inner layer of the onion in ORM\n",
    "# -- b.) User represents data we want to store, something that is built on db.Model\n",
    "# -- c.) SQLAlchemy ORM is layer on top of SQLAlchemy Core, then SQLAlchemy engine, SQL\n",
    "class User(db.Model):\n",
    "    __tablename__ = 'homework'  # table teacher is plural, class teacher is singular\n",
    "\n",
    "    # Define the User schema with \"vars\" from object\n",
    "    id = db.Column(db.Integer, primary_key=True)\n",
    "    _teacher = db.Column(db.String(255), unique=False, nullable=False)\n",
    "    _uid = db.Column(db.String(255), unique=True, nullable=False)\n",
    "    _password = db.Column(db.String(255), unique=False, nullable=False)\n",
    "    _hw = db.Column(db.String(255), unique=False, nullable=False)\n",
    "\n",
    "    # constructor of a User object, initializes the instance variables within object (self)\n",
    "    def __init__(self, teacher, uid, hw, password=\"123qwerty\"):\n",
    "        self._teacher = teacher\n",
    "        self._uid = uid\n",
    "        self.hw = hw\n",
    "        self.set_password(password)\n",
    "\n",
    "    # a teacher getter method, extracts teacher from object\n",
    "    @property\n",
    "    def teacher(self):\n",
    "        return self._teacher\n",
    "    \n",
    "    # a setter function, allows teacher to be updated after initial object creation\n",
    "    @teacher.setter\n",
    "    def teacher(self, teacher):\n",
    "        self._teacher = teacher\n",
    "    \n",
    "    # a getter method, extracts uid from object\n",
    "    @property\n",
    "    def uid(self):\n",
    "        return self._uid\n",
    "    \n",
    "    # a setter function, allows uid to be updated after initial object creation\n",
    "    @uid.setter\n",
    "    def uid(self, uid):\n",
    "        self._uid = uid\n",
    "        \n",
    "    # check if uid parameter matches user id in object, return boolean\n",
    "    def is_uid(self, uid):\n",
    "        return self._uid == uid\n",
    "    \n",
    "    @property\n",
    "    def hw(self):\n",
    "        return self._hw\n",
    "    \n",
    "    # a setter function, allows teacher to be updated after initial object creation\n",
    "    @hw.setter\n",
    "    def hw(self, hw):\n",
    "        self._hw = hw\n",
    "        \n",
    "    @property\n",
    "    def password(self):\n",
    "        return self._password[0:10] + \"...\" # because of security only show 1st characters\n",
    "\n",
    "    # update password, this is conventional method used for setter\n",
    "    def set_password(self, password):\n",
    "        \"\"\"Create a hashed password.\"\"\"\n",
    "        self._password = generate_password_hash(password, method='sha256')\n",
    "    # check password parameter against stored/encrypted password\n",
    "    def is_password(self, password):\n",
    "        \"\"\"Check against hashed password.\"\"\"\n",
    "        result = check_password_hash(self._password, password)\n",
    "        return result\n",
    "    \n",
    "    \n",
    "    # output content using str(object) is in human readable form\n",
    "    # output content using json dumps, this is ready for API response\n",
    "    def __str__(self):\n",
    "        return json.dumps(self.read())\n",
    "\n",
    "    # CRUD create/add a new record to the table\n",
    "    # returns self or None on error\n",
    "    def create(self):\n",
    "        try:\n",
    "            # creates a person object from User(db.Model) class, passes initializers\n",
    "            db.session.add(self)  # add prepares to persist person object to Users table\n",
    "            db.session.commit()  # SqlAlchemy \"unit of work pattern\" requires a manual commit\n",
    "            return self\n",
    "        except IntegrityError:\n",
    "            db.session.remove()\n",
    "            return None\n",
    "\n",
    "    # CRUD read converts self to dictionary\n",
    "    # returns dictionary\n",
    "    def read(self):\n",
    "        return {\n",
    "            \"id\": self.id,\n",
    "            \"teacher\": self.teacher,\n",
    "            \"uid\": self.uid,\n",
    "            \"hw\": self.hw,\n",
    "        }\n",
    "\n",
    "    # CRUD update: updates user teacher, password, phone\n",
    "    # returns self\n",
    "    def update(self, teacher=\"\", uid=\"\",  hw=\"\", password=\"\"):\n",
    "        \"\"\"only updates values with length\"\"\"\n",
    "        if len(teacher) > 0:\n",
    "            self.teacher = teacher\n",
    "        if len(uid) > 0:\n",
    "            self.uid = uid\n",
    "        if len(hw) > 0:\n",
    "            self.hw = hw\n",
    "        if len(password) > 0:\n",
    "            self.set_password(password)\n",
    "        return self\n",
    "\n",
    "    # CRUD delete: remove self\n",
    "    # None\n",
    "    def delete(self):\n",
    "        db.session.delete(self)\n",
    "        db.session.commit()\n",
    "        return None"
   ]
  },
  {
   "attachments": {},
   "cell_type": "markdown",
   "metadata": {},
   "source": [
    "## Initial Data\n",
    "> Uses SQLALchemy db.create_all() to initialize rows into sqlite.db\n",
    "\n",
    "- Comment on how these work?\n",
    "    1. Create All Tables from db Object\n",
    "        - it takes all the data from the u's and for loops them, and trys to create them\n",
    "    2. User Object Constructors\n",
    "        - use the .create() or anything else to create stuff\n",
    "    3. Try / Except\n",
    "        - Try's to do something, expect if a certin value is reached\n"
   ]
  },
  {
   "cell_type": "code",
   "execution_count": 48,
   "metadata": {},
   "outputs": [
    {
     "name": "stdout",
     "output_type": "stream",
     "text": [
      "Created new uid bigmort123\n",
      "Created new uid ilovechem\n",
      "Created new uid CurrysWorld\n",
      "Created new uid englishrocks\n",
      "Created new uid mathontop\n"
     ]
    }
   ],
   "source": [
    "\"\"\"Database Creation and Testing \"\"\"\n",
    "\n",
    "\n",
    "# Builds working data for testing\n",
    "def initUsers():\n",
    "    with app.app_context():\n",
    "        \"\"\"Create database and tables\"\"\"\n",
    "        db.create_all()\n",
    "        \"\"\"Tester data for table\"\"\"\n",
    "        u1 = User(teacher='Mr. Mortensen', uid='bigmort123', hw='Hacks for 2.4a and b', password='123toby')\n",
    "        u2 = User(teacher='Ms. Calicot', uid='ilovechem', hw='Compound Worksheet', password='123niko')\n",
    "        u3 = User(teacher='Mr. Curry', uid='CurrysWorld', hw='Russia Worksheet', password='123lex')\n",
    "        u4 = User(teacher='Ms. Boehm', uid='englishrocks', hw='Logical Fallicies Worksheet', password='123lex')\n",
    "        u5 = User(teacher='Ms. Huang', uid='mathontop', hw='Problems 7-45 to 7-50', password='123lex')\n",
    "\n",
    "\n",
    "        users = [u1, u2, u3, u4, u5]\n",
    "\n",
    "        \"\"\"Builds sample user/note(s) data\"\"\"\n",
    "        for user in users:\n",
    "            try:\n",
    "                '''add user to table'''\n",
    "                object = user.create()\n",
    "                print(f\"Created new uid {object.uid}\")\n",
    "            except:  # error raised if object nit created\n",
    "                '''fails with bad or duplicate data'''\n",
    "                print(f\"Records exist uid {user.uid}, or error.\")\n",
    "                \n",
    "initUsers()"
   ]
  },
  {
   "attachments": {},
   "cell_type": "markdown",
   "metadata": {},
   "source": [
    "## Check for given Credentials in users table in sqlite.db\n",
    "> Use of ORM Query object and custom methods to identify user to credentials uid and password\n",
    "\n",
    "- Comment on purpose of following\n",
    "    1. User.query.filter_by\n",
    "        - The purpose of query.filter_by(_uid=uid) is to create a filter on the User table that matches the given _uid value. \n",
    "    2. user.password\n",
    "        - The purpose of user.password is to retrieve the hashed password stored in the User object."
   ]
  },
  {
   "cell_type": "code",
   "execution_count": 49,
   "metadata": {},
   "outputs": [
    {
     "data": {
      "text/plain": [
       "False"
      ]
     },
     "execution_count": 49,
     "metadata": {},
     "output_type": "execute_result"
    }
   ],
   "source": [
    "# SQLAlchemy extracts single user from database matching User ID\n",
    "def find_by_uid(uid):\n",
    "    with app.app_context():\n",
    "        user = User.query.filter_by(_uid=uid).first()\n",
    "    return user # returns user object\n",
    "\n",
    "# Check credentials by finding user and verify password\n",
    "def check_credentials(uid, password):\n",
    "    # query email and return user record\n",
    "    user = find_by_uid(uid)\n",
    "    if user == None:\n",
    "        return False\n",
    "    if (user.is_password(password)):\n",
    "        return True\n",
    "    return False\n",
    "        \n",
    "check_credentials(\"indi\", \"123qwerty\")"
   ]
  },
  {
   "attachments": {},
   "cell_type": "markdown",
   "metadata": {},
   "source": [
    "## Create a new User in table in Sqlite.db\n",
    "> Uses SQLALchemy and custom user.create() method to add row.\n",
    "\n",
    "- Comment on purpose of following\n",
    "    1. user.find_by_uid() and try/except\n",
    "        - It checks whether the user already exists\n",
    "    2. user = User(...)\n",
    "        - Assign data to the object\n",
    "    3. user.dob and try/except\n",
    "        - it tries to get the age from the dob, except if the dob is an error\n",
    "    4. user.create() and try/except\n",
    "        - try to create the user, without it present an error"
   ]
  },
  {
   "cell_type": "code",
   "execution_count": 50,
   "metadata": {},
   "outputs": [
    {
     "name": "stdout",
     "output_type": "stream",
     "text": [
      "Created\n",
      " {'id': 6, 'teacher': 'Profe Strutton', 'uid': 'spainshrocks', 'hw': 'Worksheet'}\n"
     ]
    }
   ],
   "source": [
    "# Inputs, Try/Except, and SQLAlchemy work together to build a valid database object\n",
    "def hw_create():\n",
    "    # optimize user time to see if uid exists\n",
    "    uid = input(\"Enter your user id:\")\n",
    "    user = find_by_uid(uid)\n",
    "    try:\n",
    "        print(\"Found\\n\", user.read())\n",
    "        return\n",
    "    except:\n",
    "        pass # keep going\n",
    "    \n",
    "    # request value that ensure creating valid object\n",
    "    teacher = input(\"Enter your teaching name:\")\n",
    "    password = input(\"Enter your password\")\n",
    "    hw = input(\"Enter the homework that is due\")\n",
    "    \n",
    "    \n",
    "    # Initialize User object before date\n",
    "    user = User(teacher=teacher, \n",
    "                uid=uid,\n",
    "                hw=hw,\n",
    "                password=password,\n",
    "                )\n",
    "    \n",
    "    # write object to database\n",
    "    with app.app_context():\n",
    "        try:\n",
    "            object = user.create()\n",
    "            print(\"Created\\n\", object.read())\n",
    "        except:  # error raised if object not created\n",
    "            print(\"Unknown error uid {uid}\")\n",
    "        \n",
    "hw_create()"
   ]
  },
  {
   "attachments": {},
   "cell_type": "markdown",
   "metadata": {},
   "source": [
    "## Reading users table in sqlite.db\n",
    "> Uses SQLALchemy query.all method to read data\n",
    "\n",
    "- Comment on purpose of following\n",
    "    1. User.query.all\n",
    "        - Takes all data from the table\n",
    "    2. json_ready assignment, google List Comprehension\n",
    "        - returns the user in json format"
   ]
  },
  {
   "cell_type": "code",
   "execution_count": 70,
   "metadata": {},
   "outputs": [
    {
     "data": {
      "text/plain": [
       "[{'id': 1,\n",
       "  'teacher': 'Mr. Mortensen',\n",
       "  'uid': 'bigmort123',\n",
       "  'hw': 'Hacks for 2.4a and b'},\n",
       " {'id': 2,\n",
       "  'teacher': 'Ms. Calicot',\n",
       "  'uid': 'ilovechem',\n",
       "  'hw': 'Compound Worksheet'},\n",
       " {'id': 3,\n",
       "  'teacher': 'Mr. Curry',\n",
       "  'uid': 'CurrysWorld',\n",
       "  'hw': 'Russia Worksheet'},\n",
       " {'id': 4,\n",
       "  'teacher': 'Ms. Boehm',\n",
       "  'uid': 'englishrocks',\n",
       "  'hw': 'Logical Fallicies Worksheet'},\n",
       " {'id': 5,\n",
       "  'teacher': 'Ms. Huang',\n",
       "  'uid': 'mathontop',\n",
       "  'hw': 'Problems 7-45 to 7-50'},\n",
       " {'id': 6,\n",
       "  'teacher': 'Profe Strutton',\n",
       "  'uid': 'spainshrocks',\n",
       "  'hw': 'Read 20mins'}]"
      ]
     },
     "execution_count": 70,
     "metadata": {},
     "output_type": "execute_result"
    }
   ],
   "source": [
    "\n",
    "# SQLAlchemy extracts all users from database, turns each user into JSON\n",
    "def hw_read():\n",
    "    with app.app_context():\n",
    "        table = User.query.all()\n",
    "    json_ready = [user.read() for user in table] # \"List Comprehensions\", for each user add user.read() to list\n",
    "    return json_ready\n",
    "\n",
    "hw_read()"
   ]
  },
  {
   "cell_type": "code",
   "execution_count": 63,
   "metadata": {},
   "outputs": [
    {
     "data": {
      "text/plain": [
       "'Homework is already none'"
      ]
     },
     "execution_count": 63,
     "metadata": {},
     "output_type": "execute_result"
    }
   ],
   "source": [
    "# Delete method\n",
    "def hw_delete():\n",
    "    # Checking for user before delete\n",
    "    teach = input(\"Input your uid: \")\n",
    "    passs = input(\"Input your password: \")\n",
    "    if check_credentials(teach, passs) == False:\n",
    "        return\n",
    "    else:\n",
    "        pass\n",
    "    \n",
    "    with app.app_context():\n",
    "        # find the user matching the input uid\n",
    "        user = User.query.filter_by(_uid=teach).first()\n",
    "        if user.hw == \"No Homework\":\n",
    "            return \"Homework is already none\"\n",
    "        else:\n",
    "            user.hw = \"No Homework\"\n",
    "            db.session.commit()\n",
    "            return \"Homework deleted, hopefully no more :).\"\n",
    "\n",
    "hw_delete()"
   ]
  },
  {
   "cell_type": "code",
   "execution_count": 69,
   "metadata": {},
   "outputs": [
    {
     "data": {
      "text/plain": [
       "'Read 20mins'"
      ]
     },
     "execution_count": 69,
     "metadata": {},
     "output_type": "execute_result"
    }
   ],
   "source": [
    "def hw_update():\n",
    "    # Checking for user before delete\n",
    "    teach = input(\"Input your uid: \")\n",
    "    passs = input(\"Input your password: \")\n",
    "    if check_credentials(teach, passs) == False:\n",
    "        return\n",
    "    else:\n",
    "        pass\n",
    "    newhw = input(\"What HW would you like to add\")\n",
    "    with app.app_context():\n",
    "        # find the user matching the input uid\n",
    "        user = User.query.filter_by(_uid=teach).first()\n",
    "        user.hw = \"\"\n",
    "        user.hw = newhw\n",
    "        db.session.commit()\n",
    "        return user.hw\n",
    "\n",
    "hw_update()"
   ]
  },
  {
   "attachments": {},
   "cell_type": "markdown",
   "metadata": {},
   "source": [
    "# Hacks\n",
    "- Add this Blog to you own Blogging site.  In the Blog add notes and observations on each code cell.\n",
    "- Change blog to your own database.\n",
    "- Add additional CRUD\n",
    "    - Add Update functionality to this blog.\n",
    "    - Add Delete functionality to this blog."
   ]
  }
 ],
 "metadata": {
  "kernelspec": {
   "display_name": "base",
   "language": "python",
   "name": "python3"
  },
  "language_info": {
   "codemirror_mode": {
    "teacher": "ipython",
    "version": 3
   },
   "file_extension": ".py",
   "mimetype": "text/x-python",
   "name": "python",
   "nbconvert_exporter": "python",
   "pygments_lexer": "ipython3",
   "teacher": "python",
   "version": "3.9.12"
  },
  "orig_nbformat": 4
 },
 "nbformat": 4,
 "nbformat_minor": 2
}
