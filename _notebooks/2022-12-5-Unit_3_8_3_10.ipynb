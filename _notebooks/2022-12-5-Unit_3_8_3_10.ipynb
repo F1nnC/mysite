{
 "cells": [
  {
   "cell_type": "markdown",
   "metadata": {},
   "source": [
    "# 3.8 and 3.10\n",
    "> HW 4\n",
    "- toc: true\n",
    "- badges: true\n",
    "- categories: [.trimester 2 student teaching]"
   ]
  },
  {
   "cell_type": "markdown",
   "metadata": {},
   "source": [
    "# Notes\n",
    "## Section Objectives:\n",
    "\n",
    "- Express an algorithm that uses iteration without using a programming language\n",
    "- Determine the result or side effect of iteration statements\n",
    "- Write iteration statements\n",
    "\n",
    "## Vocab\n",
    "- Iteration: a repeating portion of an algorithm, repeats a specified number of times or until a given condition is met\n",
    "\n",
    "- Iteration Statements: change the sequential flow of control by repeating a set of statements zero or more times, until a stopping condition is met\n",
    "\n",
    "- Repeat Until: if the condition evaluates to true initially, the loop body is not executed at all, due to the condition being checked before the loop\n",
    "\n",
    "- Complete Traversal: All elements in a list are assessed \n",
    "\n",
    "- Partial Traversal: Only a given portion of elements are assessed\n",
    "\n",
    "- Iterative Traversal: When loops are used to iterate through a list and to access each single element at a time.\n",
    "\n",
    "# Notes\n",
    "- Iteration is part of an agrothim\n",
    "- Keeps looping until problem is finshed\n",
    "- range excludes that last value\n",
    "- insert( ) allows a value to be inserted into a list at index i\n",
    "- append( ) allows a value to be added at the end of a list \n",
    "- remove( ) allows an element at index i to be deleted from a list\n",
    "- length( ) returns the number of elements currently in a specific list\n"
   ]
  },
  {
   "cell_type": "markdown",
   "metadata": {},
   "source": [
    "# Hacks Unit 3 Section 3.8.1\n",
    "## 1\n",
    "- Iteration is when a loop repeats steps until a condtion is met\n",
    "\n",
    "## 2\n",
    "- Cycle through water animals till nemo is found\n",
    "\n",
    "## 3"
   ]
  },
  {
   "cell_type": "code",
   "execution_count": 4,
   "metadata": {},
   "outputs": [
    {
     "name": "stdout",
     "output_type": "stream",
     "text": [
      "whale is not nemo\n",
      "trout is not nemo\n",
      "shark is not nemo\n",
      "bass is not nemo\n",
      "nemo is here\n"
     ]
    }
   ],
   "source": [
    "water = [\"whale\", \"trout\", \"shark\", \"bass\", \"nemo\"]\n",
    "for fi in water:\n",
    "    if i == \"nemo\":\n",
    "        print(\"nemo is here\")\n",
    "        break\n",
    "    else:\n",
    "        print(i + \" is not nemo\")\n",
    "\n"
   ]
  },
  {
   "cell_type": "markdown",
   "metadata": {},
   "source": [
    "# Hacks Unit 3 Section 3.8.2\n",
    "## 1\n",
    "- Iteration Statements are statments that go through a process of steps until a condition is met\n",
    "\n",
    "## 2"
   ]
  },
  {
   "cell_type": "code",
   "execution_count": 31,
   "metadata": {},
   "outputs": [
    {
     "name": "stdout",
     "output_type": "stream",
     "text": [
      "10\n",
      "9\n",
      "8\n",
      "7\n",
      "6\n",
      "5\n",
      "4\n",
      "3\n",
      "2\n",
      "1\n"
     ]
    }
   ],
   "source": [
    "for i in reversed(range(1,11)):\n",
    "    print(i)\n"
   ]
  },
  {
   "cell_type": "markdown",
   "metadata": {},
   "source": [
    "## 3"
   ]
  },
  {
   "cell_type": "code",
   "execution_count": 65,
   "metadata": {},
   "outputs": [
    {
     "name": "stdout",
     "output_type": "stream",
     "text": [
      "3\n",
      "16\n",
      "29\n",
      "42\n",
      "55\n",
      "68\n",
      "81\n"
     ]
    }
   ],
   "source": [
    "numbers = 0\n",
    "n = 1\n",
    "while numbers < 80:\n",
    "    numbers = 3+(n-1)*13\n",
    "    n = n + 1\n",
    "    print(numbers)\n",
    "    \n"
   ]
  },
  {
   "cell_type": "markdown",
   "metadata": {},
   "source": [
    "# Hacks Unit 3 Section 10"
   ]
  },
  {
   "cell_type": "code",
   "execution_count": 73,
   "metadata": {},
   "outputs": [
    {
     "name": "stdout",
     "output_type": "stream",
     "text": [
      "40\n"
     ]
    }
   ],
   "source": [
    "nums = [10, 15, 20, 25, 30, 35]\n",
    "mnums = min(nums)\n",
    "for i in nums:\n",
    "    if i > mnums:\n",
    "        mnums = mnums + 5\n",
    "    else:\n",
    "        mnums = mnums + 5\n",
    "print(mnums)"
   ]
  },
  {
   "cell_type": "markdown",
   "metadata": {},
   "source": [
    "![quiz](https://f1nnc.github.io/mysite/images/snip.png)"
   ]
  }
 ],
 "metadata": {
  "kernelspec": {
   "display_name": "Python 3.9.12 ('base')",
   "language": "python",
   "name": "python3"
  },
  "language_info": {
   "codemirror_mode": {
    "name": "ipython",
    "version": 3
   },
   "file_extension": ".py",
   "mimetype": "text/x-python",
   "name": "python",
   "nbconvert_exporter": "python",
   "pygments_lexer": "ipython3",
   "version": "3.9.12"
  },
  "orig_nbformat": 4,
  "vscode": {
   "interpreter": {
    "hash": "c674d37576c6be53e55a91dd88fae21456458e9a04c854efbf5b2af480977a00"
   }
  }
 },
 "nbformat": 4,
 "nbformat_minor": 2
}
