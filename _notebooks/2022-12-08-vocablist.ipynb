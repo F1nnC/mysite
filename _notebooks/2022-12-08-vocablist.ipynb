{
 "cells": [
  {
   "attachments": {},
   "cell_type": "markdown",
   "metadata": {},
   "source": [
    "# Vocab List\n",
    "> List of all my vocab\n",
    "- toc: true\n",
    "- badges: true\n",
    "- categories: [.a vocab]"
   ]
  },
  {
   "attachments": {},
   "cell_type": "markdown",
   "metadata": {},
   "source": [
    "# Vocab\n",
    "\n",
    "Procedure: is a named set of instructions that can take in parameters and return values.\n",
    "May be called \"method\" or \"function\" in different programming languages.\n",
    "\n",
    "Parameters: are independent variables used in the procedure to produce a result. It allows a procedure to execute without initially knowing specific input values.\n",
    "\n",
    "Modularity: the practice of breaking a complex program into smaller, independent parts or modules that can be used and reused in different parts of the program\n",
    "\n",
    "Abstraction: the practice of hiding the details of how a particular code or system works and exposing only the essential features or functions that are necessary for other parts of the program to use\n",
    "\n",
    "Duplication: having multiple duplicate code blocks, often decreasing readability and efficiency\n",
    "\n",
    "Logic: the sequence of steps and operations that a computer follows to execute a program, including the specific instructions and decision-making processes built into the code\n",
    "\n",
    "Arguements: a way to provide information to a function, usually defined outside a function and then imported into a function with parameters\n",
    "\n",
    "Iteration: a repeating portion of an algorithm, repeats a specified number of times or until a given condition is met\n",
    "\n",
    "Iteration Statements: change the sequential flow of control by repeating a set of statements zero or more times, until a stopping condition is met\n",
    "\n",
    "Repeat Until: if the condition evaluates to true initially, the loop body is not executed at all, due to the condition being checked before the loop\n",
    "\n",
    "Complete Traversal: All elements in a list are assessed \n",
    "\n",
    "Partial Traversal: Only a given portion of elements are assessed\n",
    "\n",
    "Iterative Traversal: When loops are used to iterate through a list and to access each single element at a time.\n",
    "\n",
    "Binary Search: repeatedly dividing a search interval in half\n",
    "\n",
    "Agorithims: A set amount tasks to give an output"
   ]
  }
 ],
 "metadata": {
  "kernelspec": {
   "display_name": "Python 3.9.12 ('base')",
   "language": "python",
   "name": "python3"
  },
  "language_info": {
   "name": "python",
   "version": "3.9.12"
  },
  "orig_nbformat": 4,
  "vscode": {
   "interpreter": {
    "hash": "c674d37576c6be53e55a91dd88fae21456458e9a04c854efbf5b2af480977a00"
   }
  }
 },
 "nbformat": 4,
 "nbformat_minor": 2
}
