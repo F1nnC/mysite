{
 "cells": [
  {
   "attachments": {},
   "cell_type": "markdown",
   "metadata": {},
   "source": [
    "#  Tic Tac\n",
    "> Basic python TicTacToe game\n",
    "- toc: true\n",
    "- type: ap\n",
    "- permalink: /tictactoe"
   ]
  },
  {
   "cell_type": "code",
   "execution_count": 3,
   "metadata": {},
   "outputs": [
    {
     "name": "stdout",
     "output_type": "stream",
     "text": [
      "Hello! Please select your move.\n",
      "[] []\n"
     ]
    }
   ],
   "source": [
    "\n",
    "\n",
    "## How to Choose where you want to go\n",
    "# | 1 | 2 | 3 |\n",
    "# | 4 | 5 | 6 |\n",
    "# | 7 | 8 | 9 |\n",
    "##\n",
    "\n",
    "\n",
    "\n",
    "# Defining functions\n",
    "board = [\"~\", \"~\", \"~\", \"~\", \"~\", \"~\", \"~\", \"~\", \"~\"]\n",
    "moves = 0\n",
    "xs = []\n",
    "os = []\n",
    "XorO = 0\n",
    "\n",
    "def playing():\n",
    "    global XorO, moves\n",
    "    choose = input(\"Please choose where you want to go: \")\n",
    "    numbers = [1, 2, 3, 4, 5, 6, 7, 8, 9]\n",
    "    sign = \"\"\n",
    "    if choose.isdigit() and int(choose) in numbers:\n",
    "        if \"~\" in board:\n",
    "            pass\n",
    "        else:\n",
    "            return\n",
    "        if XorO % 2 == 0:\n",
    "            sign = \"X\"\n",
    "        else:\n",
    "            sign = \"O\"\n",
    "        choose = int(choose) - 1\n",
    "        board[choose] = sign\n",
    "        print(\"------------\")\n",
    "        print(board[0:3])\n",
    "        print(board[3:6])\n",
    "        print(board[6:9])\n",
    "        moves += 1\n",
    "        XorO += 1 # switch to the next player's turn\n",
    "        if moves == 9:\n",
    "            converter(board)\n",
    "            print(\"Maximum moves reached! The game is over.\")\n",
    "            return\n",
    "        playing()\n",
    "    elif len(board) == 0: # Escape Key\n",
    "        return\n",
    "    elif len(board) == \"^C\": # Escape Key\n",
    "        return\n",
    "    else:\n",
    "        print(\"Please choose a valid input (1-9)\")\n",
    "        playing()\n",
    "\n",
    "def converter(x):\n",
    "    pos = 1\n",
    "    for i in x:\n",
    "        if i.lower() == \"x\":\n",
    "            xs.append(pos)\n",
    "        elif i.lower() == \"o\":\n",
    "            os.append(pos)\n",
    "        pos = pos + 1\n",
    "    return xs, os\n",
    "\n",
    "def winner():\n",
    "    print(\"hello\")\n",
    "    \n",
    "print(\"Hello! Please select your move.\")\n",
    "playing()\n",
    "print(xs, os)\n",
    "\n"
   ]
  }
 ],
 "metadata": {
  "kernelspec": {
   "display_name": "base",
   "language": "python",
   "name": "python3"
  },
  "language_info": {
   "codemirror_mode": {
    "name": "ipython",
    "version": 3
   },
   "file_extension": ".py",
   "mimetype": "text/x-python",
   "name": "python",
   "nbconvert_exporter": "python",
   "pygments_lexer": "ipython3",
   "version": "3.9.12"
  },
  "orig_nbformat": 4
 },
 "nbformat": 4,
 "nbformat_minor": 2
}
