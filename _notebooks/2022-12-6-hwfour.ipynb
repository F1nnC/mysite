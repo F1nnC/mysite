{
 "cells": [
  {
   "cell_type": "markdown",
   "metadata": {},
   "source": [
    "# 3.9 and 3.11\n",
    "> HW 4\n",
    "- toc: true\n",
    "- badges: true\n",
    "- categories: [.trimester 2 student teaching]"
   ]
  },
  {
   "cell_type": "markdown",
   "metadata": {},
   "source": [
    "# **Hold left click over my code segements to highlight the output better sorry**"
   ]
  },
  {
   "cell_type": "markdown",
   "metadata": {},
   "source": [
    "# Notes\n",
    "- If code look the same i doesn't mean it does the same thin\n",
    "- Note what code\n",
    "- Before making an agorthim plan out all steps\n",
    "- Outline can be made with flow charts or just write them out\n",
    "\n",
    "# Vocab\n",
    "- Binary Search: repeatedly dividing a search interval in half"
   ]
  },
  {
   "cell_type": "markdown",
   "metadata": {},
   "source": [
    "# Hacks 3.9.1\n",
    "## 1\n",
    "- It is imporant because different algorithms can output different things\n",
    "## 2\n"
   ]
  },
  {
   "cell_type": "code",
   "execution_count": 3,
   "metadata": {},
   "outputs": [
    {
     "name": "stdout",
     "output_type": "stream",
     "text": [
      "Get an umbrella for the walk\n"
     ]
    }
   ],
   "source": [
    "# Var\n",
    "isRaining = True\n",
    "isSunny = False\n",
    "\n",
    "#If Statements\n",
    "if isRaining == True:\n",
    "    print(\"Get an umbrella for the walk\")\n",
    "else:\n",
    "    print(\"Go on a Walk\")\n",
    "\n",
    "if isSunny == True:\n",
    "    print(\"Go on a walk :)\")\n",
    "\n"
   ]
  },
  {
   "cell_type": "code",
   "execution_count": 4,
   "metadata": {},
   "outputs": [
    {
     "name": "stdout",
     "output_type": "stream",
     "text": [
      "don't walk\n"
     ]
    }
   ],
   "source": [
    "# Var\n",
    "isRaining = False\n",
    "isSunny = True\n",
    "\n",
    "# Setting Var\n",
    "goforWalk = isRaining or not(isSunny)\n",
    "\n",
    "# If statements\n",
    "if goforWalk == False:\n",
    "    print(\"don't walk\")\n",
    "else:\n",
    "    print(\"go for a walk\")"
   ]
  },
  {
   "cell_type": "markdown",
   "metadata": {},
   "source": [
    "# Hacks for 3.9.2\n",
    "![Flowchart](https://jakewarren2414.github.io/FirstFastpages/images/DrinkFlowchart2.png)\n",
    "\n",
    "### Natural lang\n",
    "- Start\n",
    "- Are you old enought to drink\n",
    "- if not wait a year\n",
    "- do you have money\n",
    "- if not you're poor\n",
    "- if so you get beer"
   ]
  },
  {
   "cell_type": "code",
   "execution_count": null,
   "metadata": {},
   "outputs": [],
   "source": [
    "age = 17\n",
    "money = 4\n",
    "#When they are under age they wait a year until they are over\n",
    "while age <= 20:\n",
    "    age = age + 1\n",
    "    print(age)\n",
    "if age >= 21:\n",
    "    if money >= 3.99:\n",
    "        print(\"Here is your Drink\")\n",
    "        #if they don't have enough money they will say they are poor\n",
    "    else:\n",
    "        print(\"im poor\")"
   ]
  }
 ],
 "metadata": {
  "kernelspec": {
   "display_name": "Python 3.9.12 ('base')",
   "language": "python",
   "name": "python3"
  },
  "language_info": {
   "codemirror_mode": {
    "name": "ipython",
    "version": 3
   },
   "file_extension": ".py",
   "mimetype": "text/x-python",
   "name": "python",
   "nbconvert_exporter": "python",
   "pygments_lexer": "ipython3",
   "version": "3.9.12"
  },
  "orig_nbformat": 4,
  "vscode": {
   "interpreter": {
    "hash": "c674d37576c6be53e55a91dd88fae21456458e9a04c854efbf5b2af480977a00"
   }
  }
 },
 "nbformat": 4,
 "nbformat_minor": 2
}
