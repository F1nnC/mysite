{
 "cells": [
  {
   "attachments": {},
   "cell_type": "markdown",
   "metadata": {},
   "source": [
    "# 3.9 and 3.11\n",
    "> HW 5\n",
    "- toc: true\n",
    "- badges: true\n",
    "- categories: [.trimester 2 student teaching]"
   ]
  },
  {
   "cell_type": "markdown",
   "metadata": {},
   "source": [
    "# Notes\n",
    "- If code look the same i doesn't mean it does the same thin\n",
    "- Note what code\n",
    "- Before making an agorthim plan out all steps\n",
    "- Outline can be made with flow charts or just write them out\n",
    "\n",
    "# Vocab\n",
    "- Binary Search: repeatedly dividing a search interval in half"
   ]
  },
  {
   "cell_type": "markdown",
   "metadata": {},
   "source": [
    "# Hacks 3.9.1\n",
    "## 1\n",
    "- It is imporant because different algorithms can output different things\n",
    "## 2\n"
   ]
  },
  {
   "cell_type": "code",
   "execution_count": 3,
   "metadata": {},
   "outputs": [
    {
     "name": "stdout",
     "output_type": "stream",
     "text": [
      "Get an umbrella for the walk\n"
     ]
    }
   ],
   "source": [
    "# Var\n",
    "isRaining = True\n",
    "isSunny = False\n",
    "\n",
    "#If Statements\n",
    "if isRaining == True:\n",
    "    print(\"Get an umbrella for the walk\")\n",
    "else:\n",
    "    print(\"Go on a Walk\")\n",
    "\n",
    "if isSunny == True:\n",
    "    print(\"Go on a walk :)\")\n",
    "\n"
   ]
  },
  {
   "cell_type": "code",
   "execution_count": 4,
   "metadata": {},
   "outputs": [
    {
     "name": "stdout",
     "output_type": "stream",
     "text": [
      "don't walk\n"
     ]
    }
   ],
   "source": [
    "# Var\n",
    "isRaining = False\n",
    "isSunny = True\n",
    "\n",
    "# Setting Var\n",
    "goforWalk = isRaining or not(isSunny)\n",
    "\n",
    "# If statements\n",
    "if goforWalk == False:\n",
    "    print(\"don't walk\")\n",
    "else:\n",
    "    print(\"go for a walk\")"
   ]
  },
  {
   "cell_type": "markdown",
   "metadata": {},
   "source": [
    "# Hacks for 3.9.2\n",
    "![Flowchart](https://jakewarren2414.github.io/FirstFastpages/images/DrinkFlowchart2.png)\n",
    "\n",
    "### Natural lang\n",
    "- Start\n",
    "- Are you old enought to drink\n",
    "- if not wait a year\n",
    "- do you have money\n",
    "- if not you're poor\n",
    "- if so you get beer"
   ]
  },
  {
   "cell_type": "code",
   "execution_count": null,
   "metadata": {},
   "outputs": [],
   "source": [
    "age = 17\n",
    "money = 4\n",
    "#When they are under age they wait a year until they are over\n",
    "while age <= 20:\n",
    "    age = age + 1\n",
    "    print(age)\n",
    "if age >= 21:\n",
    "    if money >= 3.99:\n",
    "        print(\"Here is your Drink\")\n",
    "        #if they don't have enough money they will say they are poor\n",
    "    else:\n",
    "        print(\"im poor\")"
   ]
  },
  {
   "attachments": {},
   "cell_type": "markdown",
   "metadata": {},
   "source": [
    "# Hacks 3.9.3"
   ]
  },
  {
   "cell_type": "code",
   "execution_count": 8,
   "metadata": {},
   "outputs": [
    {
     "name": "stdout",
     "output_type": "stream",
     "text": [
      "72\n",
      "I'm thinking of a number between 1 and 100.\n",
      "You guessed 50.\n",
      "Higher\n",
      "Guess a number between 50 and 100.\n",
      "You guessed 72.\n",
      "Guess a number between 50 and 100.\n",
      "You guessed the number in 2 guesses!\n"
     ]
    }
   ],
   "source": [
    "import random\n",
    "\n",
    "#sets variables for the game\n",
    "num_guesses = 0\n",
    "user_guess = 0\n",
    "upper_bound = 100\n",
    "lower_bound = 0\n",
    "\n",
    "#generates a random number\n",
    "number = random.randint(1,100)\n",
    "\n",
    "# print(number)     #for testing purposes\n",
    "print(number)\n",
    "print(\"I'm thinking of a number between 1 and 100.\")\n",
    "\n",
    "#Write a function that gets a guess from the user using input()\n",
    "def guess():\n",
    "    g = int(input(\"Choose a number\"))\n",
    "    return g #add something here \n",
    "\n",
    "#Change the print statements to give feedback on whether the player guessed too high or too low\n",
    "def search(number, guess):\n",
    "    global lower_bound, upper_bound\n",
    "    if guess < number:\n",
    "        print(\"Higher, your getting there\") #change this\n",
    "        lower_bound = guess\n",
    "    elif guess > number:\n",
    "        print(\"Lower, your getting closer\") #change this\n",
    "        upper_bound = guess\n",
    "    return lower_bound, upper_bound\n",
    "\n",
    "while user_guess != number:\n",
    "    user_guess = guess()\n",
    "    num_guesses += 1\n",
    "    print(f\"You guessed {user_guess}.\")\n",
    "    lower_bound, upper_bound = search(number, user_guess)\n",
    "    print(f\"Guess a number between {lower_bound} and {upper_bound}.\")\n",
    "\n",
    "print(f\"You guessed the number in {num_guesses} guesses!\")"
   ]
  },
  {
   "attachments": {},
   "cell_type": "markdown",
   "metadata": {},
   "source": [
    "![flow](https://jakewarren2414.github.io/FirstFastpages/images/images/RandomFlowchart.png)"
   ]
  },
  {
   "attachments": {},
   "cell_type": "markdown",
   "metadata": {},
   "source": [
    "# Hacks 3.11"
   ]
  },
  {
   "attachments": {},
   "cell_type": "markdown",
   "metadata": {},
   "source": [
    "![flow1](https://jakewarren2414.github.io/FirstFastpages/images/images/Chart1.png)\n",
    "\n",
    "![flow2](https://jakewarren2414.github.io/FirstFastpages/images/images/Chart1.png)\n",
    "\n",
    "![flow3](https://jakewarren2414.github.io/FirstFastpages/images/images/Chart3.png)"
   ]
  },
  {
   "cell_type": "code",
   "execution_count": 12,
   "metadata": {},
   "outputs": [
    {
     "name": "stdout",
     "output_type": "stream",
     "text": [
      "79\n"
     ]
    }
   ],
   "source": [
    "numlist1 = [12, 14, 43, 57, 79, 80, 99]\n",
    "numlist2 = [92, 43, 74, 66, 30, 12, 1]\n",
    "numlist3 = [7, 13, 96, 111, 33, 84, 60]\n",
    "\n",
    "def middle(x):\n",
    "    y = (7+1)/2\n",
    "    middle = x[int(y)]\n",
    "    return middle\n",
    "\n",
    "x = numlist1\n",
    "print(middle(x))"
   ]
  },
  {
   "attachments": {},
   "cell_type": "markdown",
   "metadata": {},
   "source": [
    "- The Second number would be looked at more because binary starts at 1\n",
    "- [3, 2, 8, 12, 99] can not be searched because the order of the numbers is not perfect"
   ]
  }
 ],
 "metadata": {
  "kernelspec": {
   "display_name": "Python 3.9.12 ('base')",
   "language": "python",
   "name": "python3"
  },
  "language_info": {
   "codemirror_mode": {
    "name": "ipython",
    "version": 3
   },
   "file_extension": ".py",
   "mimetype": "text/x-python",
   "name": "python",
   "nbconvert_exporter": "python",
   "pygments_lexer": "ipython3",
   "version": "3.9.12"
  },
  "orig_nbformat": 4,
  "vscode": {
   "interpreter": {
    "hash": "c674d37576c6be53e55a91dd88fae21456458e9a04c854efbf5b2af480977a00"
   }
  }
 },
 "nbformat": 4,
 "nbformat_minor": 2
}
