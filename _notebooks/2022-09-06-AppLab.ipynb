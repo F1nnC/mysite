{
 "cells": [
  {
   "cell_type": "markdown",
   "metadata": {},
   "source": [
    "# App Lab Notes\n",
    "\n",
    "---\n",
    "- title: App Lab Notes\n",
    "- toc: true\n",
    "- comments: true\n",
    "- categories: [Blog]\n",
    "---\n",
    "\n",
    "# Notes\n",
    "- Our test is on Clash Royale\n",
    "- Use on event for everthing\n",
    "- Have the questions about triva or game facts\n",
    "- Use Variable to keep Score\n",
    "- Use the math tab to give score at the end\n",
    "\n",
    "# Finshed Project\n",
    "## https://studio.code.org/projects/applab/IcRFV9_uevL48Hc1hK9LLbd1lGhj8rGvD4zg7c5FKL8"
   ]
  }
 ],
 "metadata": {
  "language_info": {
   "name": "python"
  },
  "orig_nbformat": 4
 },
 "nbformat": 4,
 "nbformat_minor": 2
}
