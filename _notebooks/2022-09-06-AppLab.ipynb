{
 "cells": [
  {
   "cell_type": "markdown",
   "metadata": {},
   "source": [
    "# App Lab Notes\n",
    "\n",
    "---\n",
    "- title: App Lab Notes\n",
    "- toc: true\n",
    "- comments: true\n",
    "- categories: [Blog]\n",
    "---\n"
   ]
  },
  {
   "cell_type": "markdown",
   "metadata": {},
   "source": [
    "# Notes\n",
    "- Our test is on Clash Royale\n",
    "- Use on event for everthing\n",
    "- Have the questions about triva or game facts\n",
    "- Use Variable to keep Score\n",
    "- Use the math tab to give score at the end\n",
    "\n",
    "# Finshed Project\n",
    "## https://studio.code.org/projects/applab/IcRFV9_uevL48Hc1hK9LLbd1lGhj8rGvD4zg7c5FKL8\n",
    "\n",
    "# Issues\n",
    "- We had to go figure out how to not have negative score\n",
    "- I ended up stopping it show wrong answer, because real tests dont tell you got something wrong and just let you fix it"
   ]
  }
 ],
 "metadata": {
  "kernelspec": {
   "display_name": "Python 3.8.10 64-bit",
   "language": "python",
   "name": "python3"
  },
  "language_info": {
   "name": "python",
   "version": "3.8.10"
  },
  "orig_nbformat": 4,
  "vscode": {
   "interpreter": {
    "hash": "916dbcbb3f70747c44a77c7bcd40155683ae19c65e1c03b4aa3499c5328201f1"
   }
  }
 },
 "nbformat": 4,
 "nbformat_minor": 2
}
