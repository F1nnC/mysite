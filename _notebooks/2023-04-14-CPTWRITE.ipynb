{
 "cells": [
  {
   "attachments": {},
   "cell_type": "markdown",
   "metadata": {},
   "source": [
    "# CPT BLOG\n",
    "> A blog about my CPT feature because i didn't take the test\n",
    "- toc: true\n",
    "- comments: true\n",
    "- layout: base\n",
    "- title: CPT DRAFT (DIDNT DO TEST)"
   ]
  },
  {
   "attachments": {},
   "cell_type": "markdown",
   "metadata": {},
   "source": [
    "# Github Code\n",
    "\n",
    "## First Learning how to make a calender\n",
    "\n",
    "[Link](https://github.com/JakeWarren2414/dolphins2/commit/5bb3008e6ab004e51a8ab3daaa3b35215bc59e6f)\n",
    "\n",
    "## Learning how to fetch data from a website\n",
    "\n",
    "[Link](https://github.com/JakeWarren2414/dolphins2/commit/0e4a82d6aa102937a55d86d13eb779a6b757ef91)\n",
    "\n",
    "## Final Code that checks for username and password with API CRUD\n",
    "\n",
    "[Link](https://github.com/JakeWarren2414/dolphins2/commit/a0e86dba701120ba6628b9518dd0c85acc713ec0)\n",
    "\n",
    "# Video\n",
    "[Link](https://drive.google.com/file/d/1vO0vV8S_NlJLNvMeCCWKwTH1afjw2RUp/view)\n"
   ]
  },
  {
   "cell_type": "code",
   "execution_count": null,
   "metadata": {
    "vscode": {
     "languageId": "javascript"
    }
   },
   "outputs": [],
   "source": []
  }
 ],
 "metadata": {
  "language_info": {
   "name": "python"
  },
  "orig_nbformat": 4
 },
 "nbformat": 4,
 "nbformat_minor": 2
}
