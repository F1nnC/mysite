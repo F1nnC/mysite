{
 "cells": [
  {
   "cell_type": "markdown",
   "metadata": {},
   "source": [
    "# Stress Video Notes\n",
    "\n",
    "---\n",
    "- title: Stress Video Notes\n",
    "- toc: true\n",
    "- comments: true\n",
    "- categories: [Notebook]\n",
    "---"
   ]
  },
  {
   "cell_type": "markdown",
   "metadata": {},
   "source": [
    "## Gratitude list\n",
    "- My friends\n",
    "- My Parents\n",
    "- My Computer\n",
    "- My Home\n",
    "- My Skateboard"
   ]
  },
  {
   "cell_type": "markdown",
   "metadata": {},
   "source": [
    "## Skating Gratitude\n",
    "\n",
    "Skating is something I'm very grateful for. It is a way to relive stress when it comes to any problem I face. It is a fun way to get exercise, and reason to go outside. With each trick I do you almost get this feeling of being proud of how far you have come. It takes alot of work to get to do any trick in skateboarding, I just feel so much better when I can hit a trick that I want to hit. It's a hobby, stress reiliver, and fun thing to do."
   ]
  },
  {
   "cell_type": "markdown",
   "metadata": {},
   "source": [
    "## Goals\n",
    "\n",
    "### I want to Learn 5 new tricks by the end of the year:\n",
    "- I will Skate Every Day\n",
    "- I will watch videos about how to do tricks\n",
    "- I will ask advice from my friends on tricks they know already\n",
    "\n",
    "### I want to have atleast 3 A's by the end of the tri:\n",
    "- I will do my hw every day\n",
    "- I stucture my time better for when I study\n",
    "- I will pay more attetion in classes I dont enjoy (World Histoy)\n"
   ]
  }
 ],
 "metadata": {
  "kernelspec": {
   "display_name": "Python 3.8.10 64-bit",
   "language": "python",
   "name": "python3"
  },
  "language_info": {
   "name": "python",
   "version": "3.8.10"
  },
  "orig_nbformat": 4,
  "vscode": {
   "interpreter": {
    "hash": "916dbcbb3f70747c44a77c7bcd40155683ae19c65e1c03b4aa3499c5328201f1"
   }
  }
 },
 "nbformat": 4,
 "nbformat_minor": 2
}
