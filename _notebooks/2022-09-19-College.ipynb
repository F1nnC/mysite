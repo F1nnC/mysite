{
 "cells": [
  {
   "cell_type": "markdown",
   "metadata": {},
   "source": [
    "# College Board Notes\n",
    "\n",
    "---\n",
    "- title: College Board Notes\n",
    "- toc: true\n",
    "- comments: true\n",
    "- Categories: [Notebook]\n",
    "---"
   ]
  },
  {
   "cell_type": "markdown",
   "metadata": {},
   "source": [
    "# 1.1 Videos\n",
    "## Video 1\n",
    "- Computing innovations are improved through collaberation\n",
    "- Computing innovtion includes a program as an integral part of its function\n",
    "- Computing innovation can be physical or nonphysical\n",
    "- Diverse perspectives eliminates bias in development\n",
    "## Video 2\n",
    "- Pair programming is when two programmers work together. The diver writes the code and the pointers makes sure every line of code is correct.\n",
    "- Think-pair-share is a process where a student thinks through a process alone. Then they find a parter and share their ideas with them then the class.\n",
    "- Comments in code help partners\n",
    "- Github is a great way to work together"
   ]
  },
  {
   "cell_type": "markdown",
   "metadata": {},
   "source": [
    "# Quiz Results\n",
    "![\"2/3\"](vscode-remote://wsl%2Bubuntu/home/finn/vscode/mysite/images/QuizResults.jpg)"
   ]
  },
  {
   "cell_type": "markdown",
   "metadata": {},
   "source": [
    "# Hacks\n",
    "- Me and my partner did not know each other before coming to this class\n",
    "- Both of us are white\n",
    "- He likes Football and I like Skating as our main hobbies\n",
    "- We do have a lot of similariities though\n",
    "- We are both new to coding but have differnt skills. He understandssome code better and I understand other code better."
   ]
  }
 ],
 "metadata": {
  "kernelspec": {
   "display_name": "Python 3.9.12 ('base')",
   "language": "python",
   "name": "python3"
  },
  "language_info": {
   "name": "python",
   "version": "3.9.12"
  },
  "orig_nbformat": 4,
  "vscode": {
   "interpreter": {
    "hash": "c674d37576c6be53e55a91dd88fae21456458e9a04c854efbf5b2af480977a00"
   }
  }
 },
 "nbformat": 4,
 "nbformat_minor": 2
}
