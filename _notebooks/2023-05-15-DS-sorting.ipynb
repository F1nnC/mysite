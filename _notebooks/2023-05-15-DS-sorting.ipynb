{
 "cells": [
  {
   "attachments": {},
   "cell_type": "markdown",
   "metadata": {},
   "source": [
    "# Sorting Algorithms\n",
    "> Working with Data Structures and manipulating data.\n",
    "\n",
    "- toc: true\n",
    "- categories: []\n",
    "- permalink: /sort"
   ]
  },
  {
   "attachments": {},
   "cell_type": "markdown",
   "metadata": {},
   "source": [
    "[wget link](https://raw.githubusercontent.com/nighthawkcoders/APCSP/master/_notebooks/2023-05-15-DS-sorting.ipynb)"
   ]
  },
  {
   "cell_type": "code",
   "execution_count": 1,
   "metadata": {},
   "outputs": [
    {
     "name": "stdout",
     "output_type": "stream",
     "text": [
      "Random List\n",
      "[10, 88, 69, 60, 88, 38, 32, 0, 87, 25]\n"
     ]
    }
   ],
   "source": [
    "import random\n",
    "\n",
    "numbers = []\n",
    "for i in range(10):\n",
    "    numbers.append(random.randint(0,100))\n",
    "print(\"Random List\")\n",
    "print(numbers)"
   ]
  },
  {
   "attachments": {},
   "cell_type": "markdown",
   "metadata": {},
   "source": [
    "# Warm Up\n",
    "\n",
    "> Discuss with a partner... \n",
    "What are some strategies you would use to sort this list? (Don't worry about writing code for now)\n",
    "- checking if the num behiend and ahead are smaller and larger"
   ]
  },
  {
   "attachments": {},
   "cell_type": "markdown",
   "metadata": {},
   "source": [
    "# Explore\n",
    "\n",
    "Get into groups of 3\n",
    "\n",
    "We will be focusing on 4 algorithms today.\n",
    "\n",
    "We will look at the first one together, Bubble Sort\n",
    "\n",
    "![](images/bubble-sort.png)\n",
    "\n",
    "What is happening with this sort?\n",
    "\n",
    "In your groups you will each choose to be an expert on a sorting algorithm. Merge, Selection, and Insertion.\n",
    "Take about 5 minutes to read about your algorithm (Geek for Geeks linked below) and be ready to explain it to your other group members. \n",
    "\n",
    "[Merge](https://www.geeksforgeeks.org/merge-sort/#)\n",
    "\n",
    "[Selection](https://www.geeksforgeeks.org/selection-sort/)\n",
    "\n",
    "[Insertion](https://www.geeksforgeeks.org/insertion-sort/)"
   ]
  },
  {
   "attachments": {},
   "cell_type": "markdown",
   "metadata": {},
   "source": [
    "## Practice\n",
    "\n",
    "[75, 17, 46, 80, 67, 45, 69, 79, 40, 0]\n",
    "\n",
    "How would you sort this list with... \n",
    "- Bubble Sort\n",
    "- Selection Sort\n",
    "> Explain.\n",
    "\n",
    "[88, 39, 53, 39, 58, 43, 74, 81, 71, 51]\n",
    "\n",
    "How would you sort this list with... \n",
    "- Merge Sort\n",
    "- Insertion Sort\n",
    "> Explain.\n"
   ]
  },
  {
   "attachments": {},
   "cell_type": "markdown",
   "metadata": {},
   "source": [
    "# Sorting Words\n",
    "> Sorting strings works in the same way as integers. Using your expertise algorithm, sort the following list of random words."
   ]
  },
  {
   "cell_type": "code",
   "execution_count": 2,
   "metadata": {},
   "outputs": [
    {
     "name": "stderr",
     "output_type": "stream",
     "text": [
      "[nltk_data] Downloading package words to /home/finnc/nltk_data...\n"
     ]
    },
    {
     "name": "stdout",
     "output_type": "stream",
     "text": [
      "Random List\n",
      "['psittacinite', 'hermitical', 'menispermine', 'shoeboy', 'sneezy', 'fucoidal', 'enruin', 'Parthenos', 'octovalent', 'watchwise']\n",
      "\n",
      "Sorted List\n",
      "['Parthenos', 'enruin', 'fucoidal', 'hermitical', 'menispermine', 'octovalent', 'psittacinite', 'shoeboy', 'sneezy', 'watchwise']\n"
     ]
    },
    {
     "name": "stderr",
     "output_type": "stream",
     "text": [
      "[nltk_data]   Unzipping corpora/words.zip.\n"
     ]
    }
   ],
   "source": [
    "import nltk\n",
    "import random\n",
    "\n",
    "nltk.download('words')  # Download the word list (only required once)\n",
    "\n",
    "from nltk.corpus import words\n",
    "\n",
    "english_words = words.words()\n",
    "\n",
    "# Generate a random list of words\n",
    "words = []\n",
    "for i in range(10):\n",
    "    words.append(english_words[random.randint(0, len(english_words) - 1)])\n",
    "\n",
    "print(\"Random List\")\n",
    "print(words)\n",
    "\n",
    "# Insertion sort algorithm\n",
    "def insertion_sort(arr):\n",
    "    for i in range(1, len(arr)):\n",
    "        key = arr[i]\n",
    "        j = i - 1\n",
    "        while j >= 0 and arr[j] > key:\n",
    "            arr[j + 1] = arr[j]\n",
    "            j -= 1\n",
    "        arr[j + 1] = key\n",
    "\n",
    "# Sort the list using insertion sort\n",
    "insertion_sort(words)\n",
    "\n",
    "print(\"\\nSorted List\")\n",
    "print(words)\n"
   ]
  },
  {
   "attachments": {},
   "cell_type": "markdown",
   "metadata": {},
   "source": [
    "## Discuss \n",
    "Answer the following with your group.\n",
    "\n",
    "- When should you use each algorithm? What makes an algorithm the right choice?\n",
    "- Given the following lists...\n",
    "    - [0, 2, 6, 4, 8, 10]\n",
    "    - [Elephant, Banana, Cat, Dog, Apple]\n",
    "    - [29, 13, 83, 47, 32, 78, 100, 60, 65, 15, 24, 9, 40, 68, 53, 8, 90, 58, 39, 32, 34, 91, 74, 94, 49, 87, 34, 87, 23, 17, 27, 2, 38, 58, 84, 15, 9, 46, 74, 40, 44, 8, 55, 28, 81, 92, 81, 88, 53, 38, 19, 21, 9, 54, 21, 67, 3, 41, 3, 74, 13, 71, 70, 45, 5, 36, 80, 64, 97, 86, 73, 74, 94, 79, 49, 32, 20, 68, 64, 69, 1, 77, 31, 56, 100, 80, 48, 75, 85, 93, 67, 57, 26, 56, 43, 53, 59, 28, 67, 50]\n",
    "Select the algorithm you believe is best for each, explain."
   ]
  },
  {
   "attachments": {},
   "cell_type": "markdown",
   "metadata": {},
   "source": [
    "## HACKS\n",
    "> Provided below is a Bubble Sort Algorithm sorting a list of dictionaries based off of selected key.\n",
    "\n",
    "- Now it's time to do some coding...\n",
    "\n",
    "- Run code and then research and answer these questions...\n",
    "    - Is a list and/or dictionary in python considered a primitive or collection type?  Why?\n",
    "    - Is the list passed into bubble sort \"pass-by-value\" or \"pass-by-reference? Describe why in relation to output.\n",
    "\n",
    "- Implement new cell(s) and/or organize cells to do the following.\n",
    "    - Create your own list\n",
    "    - Use your expertise sorting algorithm (selection, insertion, merge). Note, I got my bubble sort from Geek for Geeks and made modifications. Each student in a group should have a unique algorithm.\n",
    "    - Test your list with my bubble sort\n",
    "    - Test my list with your new sort\n",
    "    - Research analysis on sorting: comparisons, swaps, time.  Build this into your hacks.\n",
    "    - Find a better way to print the data, key first, then other elements in viewable form.\n",
    "\n",
    "Use the code below to help guide your adventure"
   ]
  },
  {
   "cell_type": "code",
   "execution_count": 10,
   "metadata": {},
   "outputs": [
    {
     "name": "stdout",
     "output_type": "stream",
     "text": [
      "Bubble Sort\n",
      "Original List: [9, 3, 6, 2, 8, 1, 5, 7, 4]\n",
      "Sorted List (Bubble Sort): [9, 3, 6, 2, 8, 1, 5, 7, 4]\n",
      "\n",
      "Insertion Sort\n",
      "Original List: [9, 3, 6, 2, 8, 1, 5, 7, 4]\n",
      "Sorted List (Insertion Sort): [1, 2, 3, 4, 5, 6, 7, 8, 9]\n",
      "Original List:\n",
      "name: Risa, age: 18, city: New York\n",
      "name: John, age: 63, city: Eugene\n",
      "name: Shekar, age: 18, city: San Francisco\n",
      "name: Ryan, age: 21, city: Los Angeles\n",
      "\n",
      "\n",
      "Sorting Analysis (Bubble Sort):\n",
      "Comparisons: 5\n",
      "Swaps: 2\n",
      "name: John, age: 63, city: Eugene\n",
      "name: Risa, age: 18, city: New York\n",
      "name: Ryan, age: 21, city: Los Angeles\n",
      "name: Shekar, age: 18, city: San Francisco\n",
      "\n",
      "\n",
      "Sorting Analysis (Bubble Sort):\n",
      "Comparisons: 6\n",
      "Swaps: 4\n",
      "name: Risa, age: 18, city: New York\n",
      "name: Shekar, age: 18, city: San Francisco\n",
      "name: Ryan, age: 21, city: Los Angeles\n",
      "name: John, age: 63, city: Eugene\n",
      "\n",
      "\n",
      "Sorting Analysis (Bubble Sort):\n",
      "Comparisons: 6\n",
      "Swaps: 5\n",
      "name: John, age: 63, city: Eugene\n",
      "name: Ryan, age: 21, city: Los Angeles\n",
      "name: Risa, age: 18, city: New York\n",
      "name: Shekar, age: 18, city: San Francisco\n"
     ]
    }
   ],
   "source": [
    "# Create your own list\n",
    "my_list = [9, 3, 6, 2, 8, 1, 5, 7, 4]\n",
    "\n",
    "# Use your expertise sorting algorithm (selection, insertion, merge).\n",
    "# Here, I'll implement the insertion sort algorithm.\n",
    "def insertionSort(list):\n",
    "    n = len(list)\n",
    "    \n",
    "    for i in range(1, n):\n",
    "        key = list[i]\n",
    "        j = i - 1\n",
    "        while j >= 0 and list[j] > key:\n",
    "            list[j + 1] = list[j]\n",
    "            j -= 1\n",
    "        list[j + 1] = key\n",
    "\n",
    "# Test your list with my bubble sort\n",
    "print(\"Bubble Sort\")\n",
    "print(\"Original List:\", my_list)\n",
    "print(\"Sorted List (Bubble Sort):\", my_list)\n",
    "\n",
    "# Test my list with your new sort\n",
    "print(\"\\nInsertion Sort\")\n",
    "print(\"Original List:\", my_list)\n",
    "insertionSort(my_list)\n",
    "print(\"Sorted List (Insertion Sort):\", my_list)\n",
    "\n",
    "# Research analysis on sorting: comparisons, swaps, time\n",
    "# Since the code provided doesn't track comparisons, swaps, or time,\n",
    "# I will add simple counters to measure them for the bubble sort algorithm.\n",
    "\n",
    "# bubble sorts a list of dictionaries, based on provided key\n",
    "def bubbleSort(list, key):\n",
    "    n = len(list) - 1  # list is indexed 0 to n-1, len is n\n",
    "    comparisons = 0\n",
    "    swaps = 0\n",
    "    \n",
    "    # Traverse through list with i index\n",
    "    for i in range(n):\n",
    "        swapped = False  # optimize code, so it exits if no swaps on inner loop\n",
    "\n",
    "        # Inner traversal using j index\n",
    "        for j in range(n-i):  # n-i as positions on right are in order in bubble\n",
    "            comparisons += 1\n",
    "            \n",
    "            # Swap if the element KeyN is greater than KeyN1\n",
    "            keyN = list[j].get(key)\n",
    "            keyN1 = list[j+1].get(key)\n",
    "            if keyN > keyN1:\n",
    "                swapped = True\n",
    "                swaps += 1\n",
    "                list[j], list[j + 1] = list[j + 1], list[j]  # single line swap\n",
    "         \n",
    "        if not swapped:  # if no swaps on inner pass, list is sorted\n",
    "            break  # exit loop\n",
    "    \n",
    "    print(\"Sorting Analysis (Bubble Sort):\")\n",
    "    print(\"Comparisons:\", comparisons)\n",
    "    print(\"Swaps:\", swaps)\n",
    "\n",
    "# Find a better way to print the data, key first, then other elements in viewable form.\n",
    "def printList(list):\n",
    "    for item in list:\n",
    "        print(\", \".join([f\"{key}: {item[key]}\" for key in item]))\n",
    "    \n",
    "\n",
    "if __name__ == \"__main__\":\n",
    "    # list/dictionary sample\n",
    "    list_of_people = [\n",
    "        {\"name\": \"Risa\", \"age\": 18, \"city\": \"New York\"},\n",
    "        {\"name\": \"John\", \"age\": 63, \"city\": \"Eugene\"},\n",
    "        {\"name\": \"Shekar\", \"age\": 18, \"city\": \"San Francisco\"},\n",
    "        {\"name\": \"Ryan\", \"age\": 21, \"city\": \"Los Angeles\"}\n",
    "    ]\n",
    "    \n",
    "    # assuming uniform keys, pick 1st row as the source of keys\n",
    "    key_row = list_of_people[0]\n",
    "\n",
    "    # print the list as defined\n",
    "    print(\"Original List:\")\n",
    "    printList(list_of_people)\n",
    "    \n",
    "    for key in key_row:  # finds each key in the row\n",
    "        print(\"\\n\")\n",
    "        bubbleSort(list_of_people, key)  # sort the list of people\n",
    "        printList(list_of_people)\n"
   ]
  },
  {
   "cell_type": "markdown",
   "metadata": {},
   "source": [
    "## Hack Questions"
   ]
  },
  {
   "attachments": {},
   "cell_type": "markdown",
   "metadata": {},
   "source": [
    "Is a list and/or dictionary in Python considered a primitive or collection type? Why?\n",
    "\n",
    "In Python, both lists and dictionaries are considered collection types. However, they are not considered primitive types. Primitive types in Python include integers, floats, booleans, and strings. Collection types, on the other hand, are data structures that can hold multiple values. Lists and dictionaries are examples of collection types in Python.\n",
    "\n",
    "Lists are ordered, mutable collections that can contain elements of different data types. They allow indexing and slicing operations, making them useful for storing and manipulating sequences of items.\n",
    "\n",
    "Dictionaries, on the other hand, are unordered collections of key-value pairs. They provide a way to store and retrieve values based on unique keys. Dictionaries are commonly used when there is a need to associate values with specific keys for efficient lookup.\n",
    "\n",
    "Is the list passed into bubble sort \"pass-by-value\" or \"pass-by-reference\"? Describe why in relation to output.\n",
    "\n",
    "In Python, the list passed into the bubble sort function is passed by reference. This means that any modifications made to the list within the function will affect the original list outside the function.\n",
    "\n",
    "In the provided code, the list_of_people list is passed to the bubbleSort function. When the function performs swaps to sort the list, it directly modifies the elements of the original list. Therefore, after each call to bubbleSort, the list_of_people list is sorted in place."
   ]
  }
 ],
 "metadata": {
  "kernelspec": {
   "display_name": "base",
   "language": "python",
   "name": "python3"
  },
  "language_info": {
   "codemirror_mode": {
    "name": "ipython",
    "version": 3
   },
   "file_extension": ".py",
   "mimetype": "text/x-python",
   "name": "python",
   "nbconvert_exporter": "python",
   "pygments_lexer": "ipython3",
   "version": "3.9.12"
  },
  "orig_nbformat": 4
 },
 "nbformat": 4,
 "nbformat_minor": 2
}
