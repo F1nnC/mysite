{
 "cells": [
  {
   "attachments": {},
   "cell_type": "markdown",
   "metadata": {},
   "source": [
    "# 3.12 and 3.13\n",
    "> HW 5\n",
    "- toc: true\n",
    "- badges: true\n",
    "- categories: [.trimester 2 student teaching]"
   ]
  },
  {
   "attachments": {},
   "cell_type": "markdown",
   "metadata": {},
   "source": [
    "# Notes\n",
    "- To call a prodecure you have to use partheness and the parameter\n",
    "- To determine the result of a procedure or any code, you must follow the code line by line and see what each one does\n",
    "- Parameters can be used to make functions work with multipble inputs\n",
    "\n",
    "\n",
    "# Vocab\n",
    "\n",
    "Procedure: is a named set of instructions that can take in parameters and return values.\n",
    "May be called \"method\" or \"function\" in different programming languages.\n",
    "\n",
    "Parameters: are independent variables used in the procedure to produce a result. It allows a procedure to execute without initially knowing specific input values.\n",
    "\n",
    "Modularity: the practice of breaking a complex program into smaller, independent parts or modules that can be used and reused in different parts of the program\n",
    "\n",
    "Abstraction: the practice of hiding the details of how a particular code or system works and exposing only the essential features or functions that are necessary for other parts of the program to use\n",
    "\n",
    "Duplication: having multiple duplicate code blocks, often decreasing readability and efficiency\n",
    "\n",
    "Logic: the sequence of steps and operations that a computer follows to execute a program, including the specific instructions and decision-making processes built into the code\n",
    "\n",
    "Arguements: a way to provide information to a function, usually defined outside a function and then imported into a function with parameters\n",
    "\n",
    "# Hacks\n",
    "\n",
    "## 3.12\n",
    "Procedure: is like a bunch of intrusticions that can take in different values\n",
    "\n",
    "Parameter: an indepentent var that is used in procedures to get a different result\n",
    "\n",
    "![quiz](../images/images/quiz.png)\n",
    "\n",
    "Return Values: are the bottom part of the function that have the return next them\n",
    "\n",
    "Output Values: the value of whatever is outputed\n"
   ]
  },
  {
   "cell_type": "code",
   "execution_count": 4,
   "metadata": {},
   "outputs": [
    {
     "name": "stdout",
     "output_type": "stream",
     "text": [
      "4.0\n",
      "5.0\n"
     ]
    }
   ],
   "source": [
    "import math\n",
    "\n",
    "# Function\n",
    "def findsqrt(x):\n",
    "    sq = math.sqrt(x)\n",
    "    return sq\n",
    "\n",
    "x = 16\n",
    "\n",
    "# Function printed two different ways\n",
    "print(findsqrt(x))\n",
    "print(findsqrt(25))"
   ]
  },
  {
   "attachments": {},
   "cell_type": "markdown",
   "metadata": {},
   "source": [
    "## 3.13\n",
    "- If you abstract your coding it makes you type less and have less code and make you a better more lazier coder\n"
   ]
  }
 ],
 "metadata": {
  "kernelspec": {
   "display_name": "Python 3.9.12 ('base')",
   "language": "python",
   "name": "python3"
  },
  "language_info": {
   "codemirror_mode": {
    "name": "ipython",
    "version": 3
   },
   "file_extension": ".py",
   "mimetype": "text/x-python",
   "name": "python",
   "nbconvert_exporter": "python",
   "pygments_lexer": "ipython3",
   "version": "3.9.12"
  },
  "orig_nbformat": 4,
  "vscode": {
   "interpreter": {
    "hash": "c674d37576c6be53e55a91dd88fae21456458e9a04c854efbf5b2af480977a00"
   }
  }
 },
 "nbformat": 4,
 "nbformat_minor": 2
}
